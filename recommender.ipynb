{
 "cells": [
  {
   "cell_type": "code",
   "execution_count": 1,
   "id": "92e71fac-188e-444a-b0ef-8ffe627e3cc6",
   "metadata": {},
   "outputs": [
    {
     "name": "stderr",
     "output_type": "stream",
     "text": [
      "/tmp/ipykernel_4463/4039375063.py:3: DeprecationWarning: \n",
      "Pyarrow will become a required dependency of pandas in the next major release of pandas (pandas 3.0),\n",
      "(to allow more performant data types, such as the Arrow string type, and better interoperability with other libraries)\n",
      "but was not found to be installed on your system.\n",
      "If this would cause problems for you,\n",
      "please provide us feedback at https://github.com/pandas-dev/pandas/issues/54466\n",
      "        \n",
      "  import pandas as pd\n",
      "2024-02-05 16:46:29.206604: I external/local_tsl/tsl/cuda/cudart_stub.cc:31] Could not find cuda drivers on your machine, GPU will not be used.\n",
      "2024-02-05 16:46:29.812846: E external/local_xla/xla/stream_executor/cuda/cuda_dnn.cc:9261] Unable to register cuDNN factory: Attempting to register factory for plugin cuDNN when one has already been registered\n",
      "2024-02-05 16:46:29.813003: E external/local_xla/xla/stream_executor/cuda/cuda_fft.cc:607] Unable to register cuFFT factory: Attempting to register factory for plugin cuFFT when one has already been registered\n",
      "2024-02-05 16:46:29.936885: E external/local_xla/xla/stream_executor/cuda/cuda_blas.cc:1515] Unable to register cuBLAS factory: Attempting to register factory for plugin cuBLAS when one has already been registered\n",
      "2024-02-05 16:46:30.218450: I external/local_tsl/tsl/cuda/cudart_stub.cc:31] Could not find cuda drivers on your machine, GPU will not be used.\n",
      "2024-02-05 16:46:32.087989: W tensorflow/compiler/tf2tensorrt/utils/py_utils.cc:38] TF-TRT Warning: Could not find TensorRT\n"
     ]
    }
   ],
   "source": [
    "import numpy as np\n",
    "import numpy.ma as ma\n",
    "import pandas as pd\n",
    "import tensorflow as tf\n",
    "from tensorflow import keras\n",
    "from sklearn.preprocessing import StandardScaler, MinMaxScaler\n",
    "from sklearn.model_selection import train_test_split\n",
    "import tabulate\n",
    "from utils import *\n",
    "from operator import itemgetter\n",
    "import json"
   ]
  },
  {
   "cell_type": "code",
   "execution_count": 2,
   "id": "deb63a18-1e21-499e-968a-4be27a010ba5",
   "metadata": {},
   "outputs": [
    {
     "data": {
      "text/html": [
       "<div>\n",
       "<style scoped>\n",
       "    .dataframe tbody tr th:only-of-type {\n",
       "        vertical-align: middle;\n",
       "    }\n",
       "\n",
       "    .dataframe tbody tr th {\n",
       "        vertical-align: top;\n",
       "    }\n",
       "\n",
       "    .dataframe thead th {\n",
       "        text-align: right;\n",
       "    }\n",
       "</style>\n",
       "<table border=\"1\" class=\"dataframe\">\n",
       "  <thead>\n",
       "    <tr style=\"text-align: right;\">\n",
       "      <th></th>\n",
       "      <th>movie id</th>\n",
       "      <th>num ratings</th>\n",
       "      <th>ave rating</th>\n",
       "      <th>title</th>\n",
       "      <th>genres</th>\n",
       "    </tr>\n",
       "  </thead>\n",
       "  <tbody>\n",
       "    <tr>\n",
       "      <th>0</th>\n",
       "      <td>4993</td>\n",
       "      <td>198</td>\n",
       "      <td>4.106061</td>\n",
       "      <td>Lord of the Rings: The Fellowship of the Ring,...</td>\n",
       "      <td>Adventure|Fantasy</td>\n",
       "    </tr>\n",
       "    <tr>\n",
       "      <th>1</th>\n",
       "      <td>5952</td>\n",
       "      <td>188</td>\n",
       "      <td>4.021277</td>\n",
       "      <td>Lord of the Rings: The Two Towers, The</td>\n",
       "      <td>Adventure|Fantasy</td>\n",
       "    </tr>\n",
       "    <tr>\n",
       "      <th>2</th>\n",
       "      <td>7153</td>\n",
       "      <td>185</td>\n",
       "      <td>4.118919</td>\n",
       "      <td>Lord of the Rings: The Return of the King, The</td>\n",
       "      <td>Action|Adventure|Drama|Fantasy</td>\n",
       "    </tr>\n",
       "    <tr>\n",
       "      <th>3</th>\n",
       "      <td>4306</td>\n",
       "      <td>170</td>\n",
       "      <td>3.867647</td>\n",
       "      <td>Shrek</td>\n",
       "      <td>Adventure|Animation|Children|Comedy|Fantasy|Ro...</td>\n",
       "    </tr>\n",
       "    <tr>\n",
       "      <th>4</th>\n",
       "      <td>58559</td>\n",
       "      <td>149</td>\n",
       "      <td>4.238255</td>\n",
       "      <td>Dark Knight, The</td>\n",
       "      <td>Action|Crime|Drama</td>\n",
       "    </tr>\n",
       "    <tr>\n",
       "      <th>5</th>\n",
       "      <td>6539</td>\n",
       "      <td>149</td>\n",
       "      <td>3.778523</td>\n",
       "      <td>Pirates of the Caribbean: The Curse of the Bla...</td>\n",
       "      <td>Action|Adventure|Comedy|Fantasy</td>\n",
       "    </tr>\n",
       "    <tr>\n",
       "      <th>6</th>\n",
       "      <td>79132</td>\n",
       "      <td>143</td>\n",
       "      <td>4.066434</td>\n",
       "      <td>Inception</td>\n",
       "      <td>Action|Crime|Drama|Mystery|Sci-Fi|Thriller</td>\n",
       "    </tr>\n",
       "    <tr>\n",
       "      <th>7</th>\n",
       "      <td>6377</td>\n",
       "      <td>141</td>\n",
       "      <td>3.960993</td>\n",
       "      <td>Finding Nemo</td>\n",
       "      <td>Adventure|Animation|Children|Comedy</td>\n",
       "    </tr>\n",
       "    <tr>\n",
       "      <th>8</th>\n",
       "      <td>4886</td>\n",
       "      <td>132</td>\n",
       "      <td>3.871212</td>\n",
       "      <td>Monsters, Inc.</td>\n",
       "      <td>Adventure|Animation|Children|Comedy|Fantasy</td>\n",
       "    </tr>\n",
       "    <tr>\n",
       "      <th>9</th>\n",
       "      <td>7361</td>\n",
       "      <td>131</td>\n",
       "      <td>4.160305</td>\n",
       "      <td>Eternal Sunshine of the Spotless Mind</td>\n",
       "      <td>Drama|Romance|Sci-Fi</td>\n",
       "    </tr>\n",
       "  </tbody>\n",
       "</table>\n",
       "</div>"
      ],
      "text/plain": [
       "   movie id  num ratings  ave rating  \\\n",
       "0      4993          198    4.106061   \n",
       "1      5952          188    4.021277   \n",
       "2      7153          185    4.118919   \n",
       "3      4306          170    3.867647   \n",
       "4     58559          149    4.238255   \n",
       "5      6539          149    3.778523   \n",
       "6     79132          143    4.066434   \n",
       "7      6377          141    3.960993   \n",
       "8      4886          132    3.871212   \n",
       "9      7361          131    4.160305   \n",
       "\n",
       "                                               title  \\\n",
       "0  Lord of the Rings: The Fellowship of the Ring,...   \n",
       "1             Lord of the Rings: The Two Towers, The   \n",
       "2     Lord of the Rings: The Return of the King, The   \n",
       "3                                              Shrek   \n",
       "4                                   Dark Knight, The   \n",
       "5  Pirates of the Caribbean: The Curse of the Bla...   \n",
       "6                                          Inception   \n",
       "7                                       Finding Nemo   \n",
       "8                                     Monsters, Inc.   \n",
       "9              Eternal Sunshine of the Spotless Mind   \n",
       "\n",
       "                                              genres  \n",
       "0                                  Adventure|Fantasy  \n",
       "1                                  Adventure|Fantasy  \n",
       "2                     Action|Adventure|Drama|Fantasy  \n",
       "3  Adventure|Animation|Children|Comedy|Fantasy|Ro...  \n",
       "4                                 Action|Crime|Drama  \n",
       "5                    Action|Adventure|Comedy|Fantasy  \n",
       "6         Action|Crime|Drama|Mystery|Sci-Fi|Thriller  \n",
       "7                Adventure|Animation|Children|Comedy  \n",
       "8        Adventure|Animation|Children|Comedy|Fantasy  \n",
       "9                               Drama|Romance|Sci-Fi  "
      ]
     },
     "execution_count": 2,
     "metadata": {},
     "output_type": "execute_result"
    }
   ],
   "source": [
    "top10_df = pd.read_csv(\"./data/content_top10_df.csv\")\n",
    "\n",
    "top10_df"
   ]
  },
  {
   "cell_type": "code",
   "execution_count": 3,
   "id": "431e2515-b302-42a0-90e9-f0aa7ff91182",
   "metadata": {},
   "outputs": [],
   "source": [
    "item_train, user_train, y_train, item_features, user_features, item_vecs, movie_dict, user_to_genre = load_data()\n",
    "\n",
    "num_user_features = user_train.shape[1] - 3 # Removes user id, rating couting and avg rating\n",
    "num_item_features = item_train.shape[1] - 1 # Remove movie id\n",
    "uvs = 3 # user genre vector start\n",
    "ivs = 3 # item genre vector start\n",
    "u_s = 3 # user start of features columns to use in training\n",
    "i_s = 1 # items start of features columns to use in training"
   ]
  },
  {
   "cell_type": "code",
   "execution_count": 4,
   "id": "b42b6cfd-e45c-4d50-832e-5ca2eca90b0f",
   "metadata": {},
   "outputs": [
    {
     "data": {
      "text/html": [
       "<table>\n",
       "<thead>\n",
       "<tr><th style=\"text-align: center;\"> [user id] </th><th style=\"text-align: center;\"> [rating count] </th><th style=\"text-align: center;\"> [rating ave] </th><th style=\"text-align: center;\"> Action </th><th style=\"text-align: center;\"> Adventure </th><th style=\"text-align: center;\"> Animation </th><th style=\"text-align: center;\"> Children </th><th style=\"text-align: center;\"> Comedy </th><th style=\"text-align: center;\"> Crime </th><th style=\"text-align: center;\"> Documentary </th><th style=\"text-align: center;\"> Drama </th><th style=\"text-align: center;\"> Fantasy </th><th style=\"text-align: center;\"> Horror </th><th style=\"text-align: center;\"> Mystery </th><th style=\"text-align: center;\"> Romance </th><th style=\"text-align: center;\"> Sci-Fi </th><th style=\"text-align: center;\"> Thriller </th></tr>\n",
       "</thead>\n",
       "<tbody>\n",
       "<tr><td style=\"text-align: center;\">     2     </td><td style=\"text-align: center;\">       22       </td><td style=\"text-align: center;\">     4.0      </td><td style=\"text-align: center;\">  4.0   </td><td style=\"text-align: center;\">    4.2    </td><td style=\"text-align: center;\">    0.0    </td><td style=\"text-align: center;\">   0.0    </td><td style=\"text-align: center;\">  4.0   </td><td style=\"text-align: center;\">  4.1  </td><td style=\"text-align: center;\">     4.0     </td><td style=\"text-align: center;\">  4.0  </td><td style=\"text-align: center;\">   0.0   </td><td style=\"text-align: center;\">  3.0   </td><td style=\"text-align: center;\">   4.0   </td><td style=\"text-align: center;\">   0.0   </td><td style=\"text-align: center;\">  3.9   </td><td style=\"text-align: center;\">   3.9    </td></tr>\n",
       "<tr><td style=\"text-align: center;\">     2     </td><td style=\"text-align: center;\">       22       </td><td style=\"text-align: center;\">     4.0      </td><td style=\"text-align: center;\">  4.0   </td><td style=\"text-align: center;\">    4.2    </td><td style=\"text-align: center;\">    0.0    </td><td style=\"text-align: center;\">   0.0    </td><td style=\"text-align: center;\">  4.0   </td><td style=\"text-align: center;\">  4.1  </td><td style=\"text-align: center;\">     4.0     </td><td style=\"text-align: center;\">  4.0  </td><td style=\"text-align: center;\">   0.0   </td><td style=\"text-align: center;\">  3.0   </td><td style=\"text-align: center;\">   4.0   </td><td style=\"text-align: center;\">   0.0   </td><td style=\"text-align: center;\">  3.9   </td><td style=\"text-align: center;\">   3.9    </td></tr>\n",
       "<tr><td style=\"text-align: center;\">     2     </td><td style=\"text-align: center;\">       22       </td><td style=\"text-align: center;\">     4.0      </td><td style=\"text-align: center;\">  4.0   </td><td style=\"text-align: center;\">    4.2    </td><td style=\"text-align: center;\">    0.0    </td><td style=\"text-align: center;\">   0.0    </td><td style=\"text-align: center;\">  4.0   </td><td style=\"text-align: center;\">  4.1  </td><td style=\"text-align: center;\">     4.0     </td><td style=\"text-align: center;\">  4.0  </td><td style=\"text-align: center;\">   0.0   </td><td style=\"text-align: center;\">  3.0   </td><td style=\"text-align: center;\">   4.0   </td><td style=\"text-align: center;\">   0.0   </td><td style=\"text-align: center;\">  3.9   </td><td style=\"text-align: center;\">   3.9    </td></tr>\n",
       "<tr><td style=\"text-align: center;\">     2     </td><td style=\"text-align: center;\">       22       </td><td style=\"text-align: center;\">     4.0      </td><td style=\"text-align: center;\">  4.0   </td><td style=\"text-align: center;\">    4.2    </td><td style=\"text-align: center;\">    0.0    </td><td style=\"text-align: center;\">   0.0    </td><td style=\"text-align: center;\">  4.0   </td><td style=\"text-align: center;\">  4.1  </td><td style=\"text-align: center;\">     4.0     </td><td style=\"text-align: center;\">  4.0  </td><td style=\"text-align: center;\">   0.0   </td><td style=\"text-align: center;\">  3.0   </td><td style=\"text-align: center;\">   4.0   </td><td style=\"text-align: center;\">   0.0   </td><td style=\"text-align: center;\">  3.9   </td><td style=\"text-align: center;\">   3.9    </td></tr>\n",
       "<tr><td style=\"text-align: center;\">     2     </td><td style=\"text-align: center;\">       22       </td><td style=\"text-align: center;\">     4.0      </td><td style=\"text-align: center;\">  4.0   </td><td style=\"text-align: center;\">    4.2    </td><td style=\"text-align: center;\">    0.0    </td><td style=\"text-align: center;\">   0.0    </td><td style=\"text-align: center;\">  4.0   </td><td style=\"text-align: center;\">  4.1  </td><td style=\"text-align: center;\">     4.0     </td><td style=\"text-align: center;\">  4.0  </td><td style=\"text-align: center;\">   0.0   </td><td style=\"text-align: center;\">  3.0   </td><td style=\"text-align: center;\">   4.0   </td><td style=\"text-align: center;\">   0.0   </td><td style=\"text-align: center;\">  3.9   </td><td style=\"text-align: center;\">   3.9    </td></tr>\n",
       "</tbody>\n",
       "</table>"
      ],
      "text/plain": [
       "'<table>\\n<thead>\\n<tr><th style=\"text-align: center;\"> [user id] </th><th style=\"text-align: center;\"> [rating count] </th><th style=\"text-align: center;\"> [rating ave] </th><th style=\"text-align: center;\"> Action </th><th style=\"text-align: center;\"> Adventure </th><th style=\"text-align: center;\"> Animation </th><th style=\"text-align: center;\"> Children </th><th style=\"text-align: center;\"> Comedy </th><th style=\"text-align: center;\"> Crime </th><th style=\"text-align: center;\"> Documentary </th><th style=\"text-align: center;\"> Drama </th><th style=\"text-align: center;\"> Fantasy </th><th style=\"text-align: center;\"> Horror </th><th style=\"text-align: center;\"> Mystery </th><th style=\"text-align: center;\"> Romance </th><th style=\"text-align: center;\"> Sci-Fi </th><th style=\"text-align: center;\"> Thriller </th></tr>\\n</thead>\\n<tbody>\\n<tr><td style=\"text-align: center;\">     2     </td><td style=\"text-align: center;\">       22       </td><td style=\"text-align: center;\">     4.0      </td><td style=\"text-align: center;\">  4.0   </td><td style=\"text-align: center;\">    4.2    </td><td style=\"text-align: center;\">    0.0    </td><td style=\"text-align: center;\">   0.0    </td><td style=\"text-align: center;\">  4.0   </td><td style=\"text-align: center;\">  4.1  </td><td style=\"text-align: center;\">     4.0     </td><td style=\"text-align: center;\">  4.0  </td><td style=\"text-align: center;\">   0.0   </td><td style=\"text-align: center;\">  3.0   </td><td style=\"text-align: center;\">   4.0   </td><td style=\"text-align: center;\">   0.0   </td><td style=\"text-align: center;\">  3.9   </td><td style=\"text-align: center;\">   3.9    </td></tr>\\n<tr><td style=\"text-align: center;\">     2     </td><td style=\"text-align: center;\">       22       </td><td style=\"text-align: center;\">     4.0      </td><td style=\"text-align: center;\">  4.0   </td><td style=\"text-align: center;\">    4.2    </td><td style=\"text-align: center;\">    0.0    </td><td style=\"text-align: center;\">   0.0    </td><td style=\"text-align: center;\">  4.0   </td><td style=\"text-align: center;\">  4.1  </td><td style=\"text-align: center;\">     4.0     </td><td style=\"text-align: center;\">  4.0  </td><td style=\"text-align: center;\">   0.0   </td><td style=\"text-align: center;\">  3.0   </td><td style=\"text-align: center;\">   4.0   </td><td style=\"text-align: center;\">   0.0   </td><td style=\"text-align: center;\">  3.9   </td><td style=\"text-align: center;\">   3.9    </td></tr>\\n<tr><td style=\"text-align: center;\">     2     </td><td style=\"text-align: center;\">       22       </td><td style=\"text-align: center;\">     4.0      </td><td style=\"text-align: center;\">  4.0   </td><td style=\"text-align: center;\">    4.2    </td><td style=\"text-align: center;\">    0.0    </td><td style=\"text-align: center;\">   0.0    </td><td style=\"text-align: center;\">  4.0   </td><td style=\"text-align: center;\">  4.1  </td><td style=\"text-align: center;\">     4.0     </td><td style=\"text-align: center;\">  4.0  </td><td style=\"text-align: center;\">   0.0   </td><td style=\"text-align: center;\">  3.0   </td><td style=\"text-align: center;\">   4.0   </td><td style=\"text-align: center;\">   0.0   </td><td style=\"text-align: center;\">  3.9   </td><td style=\"text-align: center;\">   3.9    </td></tr>\\n<tr><td style=\"text-align: center;\">     2     </td><td style=\"text-align: center;\">       22       </td><td style=\"text-align: center;\">     4.0      </td><td style=\"text-align: center;\">  4.0   </td><td style=\"text-align: center;\">    4.2    </td><td style=\"text-align: center;\">    0.0    </td><td style=\"text-align: center;\">   0.0    </td><td style=\"text-align: center;\">  4.0   </td><td style=\"text-align: center;\">  4.1  </td><td style=\"text-align: center;\">     4.0     </td><td style=\"text-align: center;\">  4.0  </td><td style=\"text-align: center;\">   0.0   </td><td style=\"text-align: center;\">  3.0   </td><td style=\"text-align: center;\">   4.0   </td><td style=\"text-align: center;\">   0.0   </td><td style=\"text-align: center;\">  3.9   </td><td style=\"text-align: center;\">   3.9    </td></tr>\\n<tr><td style=\"text-align: center;\">     2     </td><td style=\"text-align: center;\">       22       </td><td style=\"text-align: center;\">     4.0      </td><td style=\"text-align: center;\">  4.0   </td><td style=\"text-align: center;\">    4.2    </td><td style=\"text-align: center;\">    0.0    </td><td style=\"text-align: center;\">   0.0    </td><td style=\"text-align: center;\">  4.0   </td><td style=\"text-align: center;\">  4.1  </td><td style=\"text-align: center;\">     4.0     </td><td style=\"text-align: center;\">  4.0  </td><td style=\"text-align: center;\">   0.0   </td><td style=\"text-align: center;\">  3.0   </td><td style=\"text-align: center;\">   4.0   </td><td style=\"text-align: center;\">   0.0   </td><td style=\"text-align: center;\">  3.9   </td><td style=\"text-align: center;\">   3.9    </td></tr>\\n</tbody>\\n</table>'"
      ]
     },
     "execution_count": 4,
     "metadata": {},
     "output_type": "execute_result"
    }
   ],
   "source": [
    "pprint_train(user_train, user_features, uvs, u_s, maxcount=5)"
   ]
  },
  {
   "cell_type": "code",
   "execution_count": 5,
   "id": "1176ffac-5252-4974-9aba-955348c00750",
   "metadata": {},
   "outputs": [
    {
     "data": {
      "text/html": [
       "<table>\n",
       "<thead>\n",
       "<tr><th style=\"text-align: center;\"> [movie id] </th><th style=\"text-align: center;\"> year </th><th style=\"text-align: center;\"> ave rating </th><th style=\"text-align: center;\"> Action </th><th style=\"text-align: center;\"> Adventure </th><th style=\"text-align: center;\"> Animation </th><th style=\"text-align: center;\"> Children </th><th style=\"text-align: center;\"> Comedy </th><th style=\"text-align: center;\"> Crime </th><th style=\"text-align: center;\"> Documentary </th><th style=\"text-align: center;\"> Drama </th><th style=\"text-align: center;\"> Fantasy </th><th style=\"text-align: center;\"> Horror </th><th style=\"text-align: center;\"> Mystery </th><th style=\"text-align: center;\"> Romance </th><th style=\"text-align: center;\"> Sci-Fi </th><th style=\"text-align: center;\"> Thriller </th></tr>\n",
       "</thead>\n",
       "<tbody>\n",
       "<tr><td style=\"text-align: center;\">    6874    </td><td style=\"text-align: center;\"> 2003 </td><td style=\"text-align: center;\">    4.0     </td><td style=\"text-align: center;\">   1    </td><td style=\"text-align: center;\">     0     </td><td style=\"text-align: center;\">     0     </td><td style=\"text-align: center;\">    0     </td><td style=\"text-align: center;\">   0    </td><td style=\"text-align: center;\">   1   </td><td style=\"text-align: center;\">      0      </td><td style=\"text-align: center;\">   0   </td><td style=\"text-align: center;\">    0    </td><td style=\"text-align: center;\">   0    </td><td style=\"text-align: center;\">    0    </td><td style=\"text-align: center;\">    0    </td><td style=\"text-align: center;\">   0    </td><td style=\"text-align: center;\">    1     </td></tr>\n",
       "<tr><td style=\"text-align: center;\">    8798    </td><td style=\"text-align: center;\"> 2004 </td><td style=\"text-align: center;\">    3.8     </td><td style=\"text-align: center;\">   1    </td><td style=\"text-align: center;\">     0     </td><td style=\"text-align: center;\">     0     </td><td style=\"text-align: center;\">    0     </td><td style=\"text-align: center;\">   0    </td><td style=\"text-align: center;\">   1   </td><td style=\"text-align: center;\">      0      </td><td style=\"text-align: center;\">   1   </td><td style=\"text-align: center;\">    0    </td><td style=\"text-align: center;\">   0    </td><td style=\"text-align: center;\">    0    </td><td style=\"text-align: center;\">    0    </td><td style=\"text-align: center;\">   0    </td><td style=\"text-align: center;\">    1     </td></tr>\n",
       "<tr><td style=\"text-align: center;\">   46970    </td><td style=\"text-align: center;\"> 2006 </td><td style=\"text-align: center;\">    3.2     </td><td style=\"text-align: center;\">   1    </td><td style=\"text-align: center;\">     0     </td><td style=\"text-align: center;\">     0     </td><td style=\"text-align: center;\">    0     </td><td style=\"text-align: center;\">   1    </td><td style=\"text-align: center;\">   0   </td><td style=\"text-align: center;\">      0      </td><td style=\"text-align: center;\">   0   </td><td style=\"text-align: center;\">    0    </td><td style=\"text-align: center;\">   0    </td><td style=\"text-align: center;\">    0    </td><td style=\"text-align: center;\">    0    </td><td style=\"text-align: center;\">   0    </td><td style=\"text-align: center;\">    0     </td></tr>\n",
       "<tr><td style=\"text-align: center;\">   48516    </td><td style=\"text-align: center;\"> 2006 </td><td style=\"text-align: center;\">    4.3     </td><td style=\"text-align: center;\">   0    </td><td style=\"text-align: center;\">     0     </td><td style=\"text-align: center;\">     0     </td><td style=\"text-align: center;\">    0     </td><td style=\"text-align: center;\">   0    </td><td style=\"text-align: center;\">   1   </td><td style=\"text-align: center;\">      0      </td><td style=\"text-align: center;\">   1   </td><td style=\"text-align: center;\">    0    </td><td style=\"text-align: center;\">   0    </td><td style=\"text-align: center;\">    0    </td><td style=\"text-align: center;\">    0    </td><td style=\"text-align: center;\">   0    </td><td style=\"text-align: center;\">    1     </td></tr>\n",
       "<tr><td style=\"text-align: center;\">   58559    </td><td style=\"text-align: center;\"> 2008 </td><td style=\"text-align: center;\">    4.2     </td><td style=\"text-align: center;\">   1    </td><td style=\"text-align: center;\">     0     </td><td style=\"text-align: center;\">     0     </td><td style=\"text-align: center;\">    0     </td><td style=\"text-align: center;\">   0    </td><td style=\"text-align: center;\">   1   </td><td style=\"text-align: center;\">      0      </td><td style=\"text-align: center;\">   1   </td><td style=\"text-align: center;\">    0    </td><td style=\"text-align: center;\">   0    </td><td style=\"text-align: center;\">    0    </td><td style=\"text-align: center;\">    0    </td><td style=\"text-align: center;\">   0    </td><td style=\"text-align: center;\">    0     </td></tr>\n",
       "</tbody>\n",
       "</table>"
      ],
      "text/plain": [
       "'<table>\\n<thead>\\n<tr><th style=\"text-align: center;\"> [movie id] </th><th style=\"text-align: center;\"> year </th><th style=\"text-align: center;\"> ave rating </th><th style=\"text-align: center;\"> Action </th><th style=\"text-align: center;\"> Adventure </th><th style=\"text-align: center;\"> Animation </th><th style=\"text-align: center;\"> Children </th><th style=\"text-align: center;\"> Comedy </th><th style=\"text-align: center;\"> Crime </th><th style=\"text-align: center;\"> Documentary </th><th style=\"text-align: center;\"> Drama </th><th style=\"text-align: center;\"> Fantasy </th><th style=\"text-align: center;\"> Horror </th><th style=\"text-align: center;\"> Mystery </th><th style=\"text-align: center;\"> Romance </th><th style=\"text-align: center;\"> Sci-Fi </th><th style=\"text-align: center;\"> Thriller </th></tr>\\n</thead>\\n<tbody>\\n<tr><td style=\"text-align: center;\">    6874    </td><td style=\"text-align: center;\"> 2003 </td><td style=\"text-align: center;\">    4.0     </td><td style=\"text-align: center;\">   1    </td><td style=\"text-align: center;\">     0     </td><td style=\"text-align: center;\">     0     </td><td style=\"text-align: center;\">    0     </td><td style=\"text-align: center;\">   0    </td><td style=\"text-align: center;\">   1   </td><td style=\"text-align: center;\">      0      </td><td style=\"text-align: center;\">   0   </td><td style=\"text-align: center;\">    0    </td><td style=\"text-align: center;\">   0    </td><td style=\"text-align: center;\">    0    </td><td style=\"text-align: center;\">    0    </td><td style=\"text-align: center;\">   0    </td><td style=\"text-align: center;\">    1     </td></tr>\\n<tr><td style=\"text-align: center;\">    8798    </td><td style=\"text-align: center;\"> 2004 </td><td style=\"text-align: center;\">    3.8     </td><td style=\"text-align: center;\">   1    </td><td style=\"text-align: center;\">     0     </td><td style=\"text-align: center;\">     0     </td><td style=\"text-align: center;\">    0     </td><td style=\"text-align: center;\">   0    </td><td style=\"text-align: center;\">   1   </td><td style=\"text-align: center;\">      0      </td><td style=\"text-align: center;\">   1   </td><td style=\"text-align: center;\">    0    </td><td style=\"text-align: center;\">   0    </td><td style=\"text-align: center;\">    0    </td><td style=\"text-align: center;\">    0    </td><td style=\"text-align: center;\">   0    </td><td style=\"text-align: center;\">    1     </td></tr>\\n<tr><td style=\"text-align: center;\">   46970    </td><td style=\"text-align: center;\"> 2006 </td><td style=\"text-align: center;\">    3.2     </td><td style=\"text-align: center;\">   1    </td><td style=\"text-align: center;\">     0     </td><td style=\"text-align: center;\">     0     </td><td style=\"text-align: center;\">    0     </td><td style=\"text-align: center;\">   1    </td><td style=\"text-align: center;\">   0   </td><td style=\"text-align: center;\">      0      </td><td style=\"text-align: center;\">   0   </td><td style=\"text-align: center;\">    0    </td><td style=\"text-align: center;\">   0    </td><td style=\"text-align: center;\">    0    </td><td style=\"text-align: center;\">    0    </td><td style=\"text-align: center;\">   0    </td><td style=\"text-align: center;\">    0     </td></tr>\\n<tr><td style=\"text-align: center;\">   48516    </td><td style=\"text-align: center;\"> 2006 </td><td style=\"text-align: center;\">    4.3     </td><td style=\"text-align: center;\">   0    </td><td style=\"text-align: center;\">     0     </td><td style=\"text-align: center;\">     0     </td><td style=\"text-align: center;\">    0     </td><td style=\"text-align: center;\">   0    </td><td style=\"text-align: center;\">   1   </td><td style=\"text-align: center;\">      0      </td><td style=\"text-align: center;\">   1   </td><td style=\"text-align: center;\">    0    </td><td style=\"text-align: center;\">   0    </td><td style=\"text-align: center;\">    0    </td><td style=\"text-align: center;\">    0    </td><td style=\"text-align: center;\">   0    </td><td style=\"text-align: center;\">    1     </td></tr>\\n<tr><td style=\"text-align: center;\">   58559    </td><td style=\"text-align: center;\"> 2008 </td><td style=\"text-align: center;\">    4.2     </td><td style=\"text-align: center;\">   1    </td><td style=\"text-align: center;\">     0     </td><td style=\"text-align: center;\">     0     </td><td style=\"text-align: center;\">    0     </td><td style=\"text-align: center;\">   0    </td><td style=\"text-align: center;\">   1   </td><td style=\"text-align: center;\">      0      </td><td style=\"text-align: center;\">   1   </td><td style=\"text-align: center;\">    0    </td><td style=\"text-align: center;\">   0    </td><td style=\"text-align: center;\">    0    </td><td style=\"text-align: center;\">    0    </td><td style=\"text-align: center;\">   0    </td><td style=\"text-align: center;\">    0     </td></tr>\\n</tbody>\\n</table>'"
      ]
     },
     "execution_count": 5,
     "metadata": {},
     "output_type": "execute_result"
    }
   ],
   "source": [
    "pprint_train(item_train, item_features, ivs, i_s, maxcount=5, user=False)"
   ]
  },
  {
   "cell_type": "code",
   "execution_count": 6,
   "id": "6d9c5e47-f8de-4c6a-9e8c-d16817281c8c",
   "metadata": {},
   "outputs": [
    {
     "name": "stdout",
     "output_type": "stream",
     "text": [
      "y_train[:5]: [4.  3.5 4.  4.  4.5]\n"
     ]
    }
   ],
   "source": [
    "print(f\"y_train[:5]: {y_train[:5]}\")"
   ]
  },
  {
   "cell_type": "code",
   "execution_count": 7,
   "id": "24e53f07-9cbc-4645-b902-1ab380fcd476",
   "metadata": {},
   "outputs": [],
   "source": [
    "item_train_unscaled = item_train\n",
    "user_train_unscaled = user_train\n",
    "y_train_unscaled    = y_train\n",
    "\n",
    "scalerItem = StandardScaler()\n",
    "scalerItem.fit(item_train)\n",
    "item_train = scalerItem.transform(item_train)\n",
    "\n",
    "scalerUser = StandardScaler()\n",
    "scalerUser.fit(user_train)\n",
    "user_train = scalerUser.transform(user_train)\n",
    "\n",
    "scalerTarget = MinMaxScaler((-1, 1))\n",
    "scalerTarget.fit(y_train.reshape(-1, 1))\n",
    "y_train = scalerTarget.transform(y_train.reshape(-1, 1))"
   ]
  },
  {
   "cell_type": "code",
   "execution_count": 8,
   "id": "474cf8cc-62aa-4fd8-9d4c-60ccc603c19f",
   "metadata": {},
   "outputs": [],
   "source": [
    "item_train, item_test = train_test_split(item_train, train_size=0.80, shuffle=True, random_state=1)\n",
    "user_train, user_test = train_test_split(user_train, train_size=0.80, shuffle=True, random_state=1)\n",
    "y_train, y_test = train_test_split(y_train, train_size = 0.80, shuffle=True, random_state=1)"
   ]
  },
  {
   "cell_type": "code",
   "execution_count": 9,
   "id": "ac5fa999-4a5d-4674-82e7-9b204bab3aa1",
   "metadata": {},
   "outputs": [
    {
     "data": {
      "text/html": [
       "<table>\n",
       "<thead>\n",
       "<tr><th style=\"text-align: center;\"> [user id] </th><th style=\"text-align: center;\"> [rating count] </th><th style=\"text-align: center;\"> [rating ave] </th><th style=\"text-align: center;\"> Action </th><th style=\"text-align: center;\"> Adventure </th><th style=\"text-align: center;\"> Animation </th><th style=\"text-align: center;\"> Children </th><th style=\"text-align: center;\"> Comedy </th><th style=\"text-align: center;\"> Crime </th><th style=\"text-align: center;\"> Documentary </th><th style=\"text-align: center;\"> Drama </th><th style=\"text-align: center;\"> Fantasy </th><th style=\"text-align: center;\"> Horror </th><th style=\"text-align: center;\"> Mystery </th><th style=\"text-align: center;\"> Romance </th><th style=\"text-align: center;\"> Sci-Fi </th><th style=\"text-align: center;\"> Thriller </th></tr>\n",
       "</thead>\n",
       "<tbody>\n",
       "<tr><td style=\"text-align: center;\">     1     </td><td style=\"text-align: center;\">       0        </td><td style=\"text-align: center;\">     -1.0     </td><td style=\"text-align: center;\">  -0.8  </td><td style=\"text-align: center;\">   -0.7    </td><td style=\"text-align: center;\">    0.1    </td><td style=\"text-align: center;\">   -0.0   </td><td style=\"text-align: center;\">  -1.2  </td><td style=\"text-align: center;\"> -0.4  </td><td style=\"text-align: center;\">     0.6     </td><td style=\"text-align: center;\"> -0.5  </td><td style=\"text-align: center;\">  -0.5   </td><td style=\"text-align: center;\">  -0.1  </td><td style=\"text-align: center;\">  -0.6   </td><td style=\"text-align: center;\">  -0.6   </td><td style=\"text-align: center;\">  -0.7  </td><td style=\"text-align: center;\">   -0.7   </td></tr>\n",
       "<tr><td style=\"text-align: center;\">     0     </td><td style=\"text-align: center;\">       1        </td><td style=\"text-align: center;\">     -0.7     </td><td style=\"text-align: center;\">  -0.5  </td><td style=\"text-align: center;\">   -0.7    </td><td style=\"text-align: center;\">   -0.1    </td><td style=\"text-align: center;\">   -0.2   </td><td style=\"text-align: center;\">  -0.6  </td><td style=\"text-align: center;\"> -0.2  </td><td style=\"text-align: center;\">     0.7     </td><td style=\"text-align: center;\"> -0.5  </td><td style=\"text-align: center;\">  -0.8   </td><td style=\"text-align: center;\">  0.1   </td><td style=\"text-align: center;\">  -0.0   </td><td style=\"text-align: center;\">  -0.6   </td><td style=\"text-align: center;\">  -0.5  </td><td style=\"text-align: center;\">   -0.4   </td></tr>\n",
       "<tr><td style=\"text-align: center;\">    -1     </td><td style=\"text-align: center;\">       -1       </td><td style=\"text-align: center;\">     -0.2     </td><td style=\"text-align: center;\">  0.3   </td><td style=\"text-align: center;\">   -0.4    </td><td style=\"text-align: center;\">    0.4    </td><td style=\"text-align: center;\">   0.5    </td><td style=\"text-align: center;\">  1.0   </td><td style=\"text-align: center;\">  0.6  </td><td style=\"text-align: center;\">    -1.2     </td><td style=\"text-align: center;\"> -0.3  </td><td style=\"text-align: center;\">  -0.6   </td><td style=\"text-align: center;\">  -2.3  </td><td style=\"text-align: center;\">  -0.1   </td><td style=\"text-align: center;\">   0.0   </td><td style=\"text-align: center;\">  0.4   </td><td style=\"text-align: center;\">   -0.0   </td></tr>\n",
       "<tr><td style=\"text-align: center;\">     0     </td><td style=\"text-align: center;\">       -1       </td><td style=\"text-align: center;\">     0.6      </td><td style=\"text-align: center;\">  0.5   </td><td style=\"text-align: center;\">    0.5    </td><td style=\"text-align: center;\">    0.2    </td><td style=\"text-align: center;\">   0.6    </td><td style=\"text-align: center;\">  -0.1  </td><td style=\"text-align: center;\">  0.5  </td><td style=\"text-align: center;\">    -1.2     </td><td style=\"text-align: center;\">  0.9  </td><td style=\"text-align: center;\">   1.2   </td><td style=\"text-align: center;\">  -2.3  </td><td style=\"text-align: center;\">  -0.1   </td><td style=\"text-align: center;\">   0.0   </td><td style=\"text-align: center;\">  0.2   </td><td style=\"text-align: center;\">   0.3    </td></tr>\n",
       "<tr><td style=\"text-align: center;\">    -1     </td><td style=\"text-align: center;\">       0        </td><td style=\"text-align: center;\">     0.7      </td><td style=\"text-align: center;\">  0.6   </td><td style=\"text-align: center;\">    0.5    </td><td style=\"text-align: center;\">    0.3    </td><td style=\"text-align: center;\">   0.5    </td><td style=\"text-align: center;\">  0.4   </td><td style=\"text-align: center;\">  0.6  </td><td style=\"text-align: center;\">     1.0     </td><td style=\"text-align: center;\">  0.6  </td><td style=\"text-align: center;\">   0.3   </td><td style=\"text-align: center;\">  0.8   </td><td style=\"text-align: center;\">   0.8   </td><td style=\"text-align: center;\">   0.4   </td><td style=\"text-align: center;\">  0.7   </td><td style=\"text-align: center;\">   0.7    </td></tr>\n",
       "</tbody>\n",
       "</table>"
      ],
      "text/plain": [
       "'<table>\\n<thead>\\n<tr><th style=\"text-align: center;\"> [user id] </th><th style=\"text-align: center;\"> [rating count] </th><th style=\"text-align: center;\"> [rating ave] </th><th style=\"text-align: center;\"> Action </th><th style=\"text-align: center;\"> Adventure </th><th style=\"text-align: center;\"> Animation </th><th style=\"text-align: center;\"> Children </th><th style=\"text-align: center;\"> Comedy </th><th style=\"text-align: center;\"> Crime </th><th style=\"text-align: center;\"> Documentary </th><th style=\"text-align: center;\"> Drama </th><th style=\"text-align: center;\"> Fantasy </th><th style=\"text-align: center;\"> Horror </th><th style=\"text-align: center;\"> Mystery </th><th style=\"text-align: center;\"> Romance </th><th style=\"text-align: center;\"> Sci-Fi </th><th style=\"text-align: center;\"> Thriller </th></tr>\\n</thead>\\n<tbody>\\n<tr><td style=\"text-align: center;\">     1     </td><td style=\"text-align: center;\">       0        </td><td style=\"text-align: center;\">     -1.0     </td><td style=\"text-align: center;\">  -0.8  </td><td style=\"text-align: center;\">   -0.7    </td><td style=\"text-align: center;\">    0.1    </td><td style=\"text-align: center;\">   -0.0   </td><td style=\"text-align: center;\">  -1.2  </td><td style=\"text-align: center;\"> -0.4  </td><td style=\"text-align: center;\">     0.6     </td><td style=\"text-align: center;\"> -0.5  </td><td style=\"text-align: center;\">  -0.5   </td><td style=\"text-align: center;\">  -0.1  </td><td style=\"text-align: center;\">  -0.6   </td><td style=\"text-align: center;\">  -0.6   </td><td style=\"text-align: center;\">  -0.7  </td><td style=\"text-align: center;\">   -0.7   </td></tr>\\n<tr><td style=\"text-align: center;\">     0     </td><td style=\"text-align: center;\">       1        </td><td style=\"text-align: center;\">     -0.7     </td><td style=\"text-align: center;\">  -0.5  </td><td style=\"text-align: center;\">   -0.7    </td><td style=\"text-align: center;\">   -0.1    </td><td style=\"text-align: center;\">   -0.2   </td><td style=\"text-align: center;\">  -0.6  </td><td style=\"text-align: center;\"> -0.2  </td><td style=\"text-align: center;\">     0.7     </td><td style=\"text-align: center;\"> -0.5  </td><td style=\"text-align: center;\">  -0.8   </td><td style=\"text-align: center;\">  0.1   </td><td style=\"text-align: center;\">  -0.0   </td><td style=\"text-align: center;\">  -0.6   </td><td style=\"text-align: center;\">  -0.5  </td><td style=\"text-align: center;\">   -0.4   </td></tr>\\n<tr><td style=\"text-align: center;\">    -1     </td><td style=\"text-align: center;\">       -1       </td><td style=\"text-align: center;\">     -0.2     </td><td style=\"text-align: center;\">  0.3   </td><td style=\"text-align: center;\">   -0.4    </td><td style=\"text-align: center;\">    0.4    </td><td style=\"text-align: center;\">   0.5    </td><td style=\"text-align: center;\">  1.0   </td><td style=\"text-align: center;\">  0.6  </td><td style=\"text-align: center;\">    -1.2     </td><td style=\"text-align: center;\"> -0.3  </td><td style=\"text-align: center;\">  -0.6   </td><td style=\"text-align: center;\">  -2.3  </td><td style=\"text-align: center;\">  -0.1   </td><td style=\"text-align: center;\">   0.0   </td><td style=\"text-align: center;\">  0.4   </td><td style=\"text-align: center;\">   -0.0   </td></tr>\\n<tr><td style=\"text-align: center;\">     0     </td><td style=\"text-align: center;\">       -1       </td><td style=\"text-align: center;\">     0.6      </td><td style=\"text-align: center;\">  0.5   </td><td style=\"text-align: center;\">    0.5    </td><td style=\"text-align: center;\">    0.2    </td><td style=\"text-align: center;\">   0.6    </td><td style=\"text-align: center;\">  -0.1  </td><td style=\"text-align: center;\">  0.5  </td><td style=\"text-align: center;\">    -1.2     </td><td style=\"text-align: center;\">  0.9  </td><td style=\"text-align: center;\">   1.2   </td><td style=\"text-align: center;\">  -2.3  </td><td style=\"text-align: center;\">  -0.1   </td><td style=\"text-align: center;\">   0.0   </td><td style=\"text-align: center;\">  0.2   </td><td style=\"text-align: center;\">   0.3    </td></tr>\\n<tr><td style=\"text-align: center;\">    -1     </td><td style=\"text-align: center;\">       0        </td><td style=\"text-align: center;\">     0.7      </td><td style=\"text-align: center;\">  0.6   </td><td style=\"text-align: center;\">    0.5    </td><td style=\"text-align: center;\">    0.3    </td><td style=\"text-align: center;\">   0.5    </td><td style=\"text-align: center;\">  0.4   </td><td style=\"text-align: center;\">  0.6  </td><td style=\"text-align: center;\">     1.0     </td><td style=\"text-align: center;\">  0.6  </td><td style=\"text-align: center;\">   0.3   </td><td style=\"text-align: center;\">  0.8   </td><td style=\"text-align: center;\">   0.8   </td><td style=\"text-align: center;\">   0.4   </td><td style=\"text-align: center;\">  0.7   </td><td style=\"text-align: center;\">   0.7    </td></tr>\\n</tbody>\\n</table>'"
      ]
     },
     "execution_count": 9,
     "metadata": {},
     "output_type": "execute_result"
    }
   ],
   "source": [
    "pprint_train(user_train, user_features, uvs, u_s, maxcount=5)"
   ]
  },
  {
   "cell_type": "code",
   "execution_count": 10,
   "id": "8627135b-c06d-4db5-8389-beb6f249cb58",
   "metadata": {},
   "outputs": [
    {
     "name": "stdout",
     "output_type": "stream",
     "text": [
      "Model: \"model\"\n",
      "__________________________________________________________________________________________________\n",
      " Layer (type)                Output Shape                 Param #   Connected to                  \n",
      "==================================================================================================\n",
      " input_1 (InputLayer)        [(None, 14)]                 0         []                            \n",
      "                                                                                                  \n",
      " input_2 (InputLayer)        [(None, 16)]                 0         []                            \n",
      "                                                                                                  \n",
      " sequential (Sequential)     (None, 32)                   147232    ['input_1[0][0]']             \n",
      "                                                                                                  \n",
      " sequential_1 (Sequential)   (None, 32)                   148256    ['input_2[0][0]']             \n",
      "                                                                                                  \n",
      " tf.math.l2_normalize (TFOp  (None, 32)                   0         ['sequential[0][0]']          \n",
      " Lambda)                                                                                          \n",
      "                                                                                                  \n",
      " tf.math.l2_normalize_1 (TF  (None, 32)                   0         ['sequential_1[0][0]']        \n",
      " OpLambda)                                                                                        \n",
      "                                                                                                  \n",
      " dot (Dot)                   (None, 1)                    0         ['tf.math.l2_normalize[0][0]',\n",
      "                                                                     'tf.math.l2_normalize_1[0][0]\n",
      "                                                                    ']                            \n",
      "                                                                                                  \n",
      "==================================================================================================\n",
      "Total params: 295488 (1.13 MB)\n",
      "Trainable params: 295488 (1.13 MB)\n",
      "Non-trainable params: 0 (0.00 Byte)\n",
      "__________________________________________________________________________________________________\n"
     ]
    }
   ],
   "source": [
    "num_outputs = 32\n",
    "\n",
    "user_NN = tf.keras.models.Sequential([\n",
    "    tf.keras.layers.Dense(512, activation='relu'),\n",
    "    tf.keras.layers.Dense(256, activation='relu'),\n",
    "    tf.keras.layers.Dense(num_outputs, activation='linear')\n",
    "])\n",
    "\n",
    "item_NN = tf.keras.models.Sequential([\n",
    "    tf.keras.layers.Dense(512, activation='relu'),\n",
    "    tf.keras.layers.Dense(256, activation='relu'),\n",
    "    tf.keras.layers.Dense(num_outputs, activation='linear')\n",
    "])\n",
    "\n",
    "input_user = tf.keras.layers.Input(shape=(num_user_features))\n",
    "vu = user_NN(input_user)\n",
    "vu = tf.linalg.l2_normalize(vu, axis=1)\n",
    "\n",
    "input_item = tf.keras.layers.Input(shape=(num_item_features))\n",
    "vm = item_NN(input_item)\n",
    "vm = tf.linalg.l2_normalize(vm, axis=1)\n",
    "\n",
    "output = tf.keras.layers.Dot(axes=1)([vu, vm])\n",
    "\n",
    "model = tf.keras.Model([input_user, input_item], output)\n",
    "\n",
    "model.summary()"
   ]
  },
  {
   "cell_type": "code",
   "execution_count": 11,
   "id": "956df771-7e8a-4981-a07a-b55fb67e2b9f",
   "metadata": {},
   "outputs": [],
   "source": [
    "cost_fn = tf.keras.losses.MeanSquaredError()\n",
    "opt = keras.optimizers.Adam(learning_rate=0.01)\n",
    "model.compile(optimizer=opt, loss=cost_fn)"
   ]
  },
  {
   "cell_type": "code",
   "execution_count": 12,
   "id": "0f299d5e-deb9-4152-9193-56f799ac56cb",
   "metadata": {},
   "outputs": [
    {
     "name": "stdout",
     "output_type": "stream",
     "text": [
      "Epoch 1/10\n",
      "1273/1273 [==============================] - 10s 7ms/step - loss: 0.1247\n",
      "Epoch 2/10\n",
      "1273/1273 [==============================] - 7s 6ms/step - loss: 0.1169\n",
      "Epoch 3/10\n",
      "1273/1273 [==============================] - 8s 6ms/step - loss: 0.1132\n",
      "Epoch 4/10\n",
      "1273/1273 [==============================] - 7s 6ms/step - loss: 0.1106\n",
      "Epoch 5/10\n",
      "1273/1273 [==============================] - 7s 6ms/step - loss: 0.1076\n",
      "Epoch 6/10\n",
      "1273/1273 [==============================] - 8s 6ms/step - loss: 0.1044\n",
      "Epoch 7/10\n",
      "1273/1273 [==============================] - 6s 4ms/step - loss: 0.1022\n",
      "Epoch 8/10\n",
      "1273/1273 [==============================] - 5s 4ms/step - loss: 0.1003\n",
      "Epoch 9/10\n",
      "1273/1273 [==============================] - 5s 4ms/step - loss: 0.0984\n",
      "Epoch 10/10\n",
      "1273/1273 [==============================] - 5s 4ms/step - loss: 0.0958\n"
     ]
    },
    {
     "data": {
      "text/plain": [
       "<keras.src.callbacks.History at 0x7f25dd510750>"
      ]
     },
     "execution_count": 12,
     "metadata": {},
     "output_type": "execute_result"
    }
   ],
   "source": [
    "model.fit([user_train[:, u_s:], item_train[:, i_s:]], y_train, epochs=10)"
   ]
  },
  {
   "cell_type": "code",
   "execution_count": 13,
   "id": "414e5ed4-9a96-4be6-9f8d-b8ac884debdb",
   "metadata": {},
   "outputs": [
    {
     "name": "stdout",
     "output_type": "stream",
     "text": [
      "319/319 [==============================] - 1s 1ms/step - loss: 0.0963\n"
     ]
    },
    {
     "data": {
      "text/plain": [
       "0.09633439779281616"
      ]
     },
     "execution_count": 13,
     "metadata": {},
     "output_type": "execute_result"
    }
   ],
   "source": [
    "model.evaluate([user_test[:, u_s:], item_test[:, i_s:]], y_test)"
   ]
  },
  {
   "cell_type": "code",
   "execution_count": 14,
   "id": "78245a37-e725-474d-ae5f-70169964521b",
   "metadata": {},
   "outputs": [],
   "source": [
    "def sq_distance(a, b):\n",
    "    return np.sum((a - b) ** 2)"
   ]
  },
  {
   "cell_type": "code",
   "execution_count": 15,
   "id": "1d08b260-d4c7-4431-bc67-28c7b6ae2a1d",
   "metadata": {},
   "outputs": [],
   "source": [
    "def compute_distance_matrix(vms):\n",
    "    m = vms.shape[0]\n",
    "    M = np.zeros((m, m))\n",
    "\n",
    "    for i in range(m):\n",
    "        for j in range(m):\n",
    "            M[i][j] = sq_distance(vms[i, :], vms[j, :])\n",
    "\n",
    "    return M"
   ]
  },
  {
   "cell_type": "code",
   "execution_count": 16,
   "id": "e7e89c7f-cbc2-4c45-9dac-367b7e3e8019",
   "metadata": {},
   "outputs": [
    {
     "name": "stdout",
     "output_type": "stream",
     "text": [
      "Model: \"model_1\"\n",
      "_________________________________________________________________\n",
      " Layer (type)                Output Shape              Param #   \n",
      "=================================================================\n",
      " input_3 (InputLayer)        [(None, 16)]              0         \n",
      "                                                                 \n",
      " sequential_1 (Sequential)   (None, 32)                148256    \n",
      "                                                                 \n",
      " tf.math.l2_normalize_2 (TF  (None, 32)                0         \n",
      " OpLambda)                                                       \n",
      "                                                                 \n",
      "=================================================================\n",
      "Total params: 148256 (579.12 KB)\n",
      "Trainable params: 148256 (579.12 KB)\n",
      "Non-trainable params: 0 (0.00 Byte)\n",
      "_________________________________________________________________\n"
     ]
    }
   ],
   "source": [
    "input_item_m = tf.keras.layers.Input(shape=(num_item_features))\n",
    "vm_m = item_NN(input_item_m)\n",
    "vm_m = tf.linalg.l2_normalize(vm_m, axis=1)\n",
    "model_m = tf.keras.Model(input_item_m, vm_m)\n",
    "model_m.summary()"
   ]
  },
  {
   "cell_type": "code",
   "execution_count": 17,
   "id": "91736e11-29d9-46c9-88c7-ffde73e7348a",
   "metadata": {},
   "outputs": [
    {
     "name": "stdout",
     "output_type": "stream",
     "text": [
      "27/27 [==============================] - 0s 1ms/step\n"
     ]
    }
   ],
   "source": [
    "scaled_item_vecs = scalerItem.transform(item_vecs)\n",
    "vms = model_m.predict(scaled_item_vecs[:,i_s:])"
   ]
  },
  {
   "cell_type": "code",
   "execution_count": 18,
   "id": "89f03a80-b885-488b-8741-c9d97d62ac30",
   "metadata": {},
   "outputs": [],
   "source": [
    "distance_matrix = compute_distance_matrix(vms)"
   ]
  },
  {
   "cell_type": "code",
   "execution_count": 19,
   "id": "2741e6e2-8c78-45ce-b3fb-b6158cda5eab",
   "metadata": {},
   "outputs": [],
   "source": [
    "m = distance_matrix.shape[0]\n",
    "similar_movies_list = []\n",
    "\n",
    "distance_matrix = ma.masked_array(distance_matrix, mask=np.identity(distance_matrix.shape[0]))\n",
    "\n",
    "for i in range(m):\n",
    "    movie = dict()\n",
    "    min_idx = np.argmin(distance_matrix[i, i:])\n",
    "    movie1_id = int(item_vecs[i, 0])\n",
    "    movie2_id = int(item_vecs[min_idx, 0])\n",
    "    distance = distance_matrix[i][min_idx]\n",
    "    movie[\"movie1_id\"] = movie1_id\n",
    "    movie[\"movie2_id\"] = movie2_id\n",
    "    movie[\"distance\"] = distance \n",
    "    \n",
    "    similar_movies_list.append(movie)"
   ]
  },
  {
   "cell_type": "code",
   "execution_count": 20,
   "id": "25b6e994-4734-4dd6-900c-48d66feea275",
   "metadata": {},
   "outputs": [],
   "source": [
    "top_10_similar_movies = sorted(similar_movies_list, key=itemgetter('distance'))[0:9]"
   ]
  },
  {
   "cell_type": "code",
   "execution_count": 21,
   "id": "86268e52-6619-434a-8ad9-c259f90b6e5c",
   "metadata": {},
   "outputs": [
    {
     "data": {
      "text/html": [
       "<table>\n",
       "<thead>\n",
       "<tr><th>movie1                                 </th><th style=\"text-align: right;\">  movie1_id</th><th>genres              </th><th>movie2                    </th><th style=\"text-align: right;\">  movie2_id</th><th>genres              </th><th style=\"text-align: right;\">  distance</th></tr>\n",
       "</thead>\n",
       "<tbody>\n",
       "<tr><td>Save the Last Dance (2001)             </td><td style=\"text-align: right;\">       4054</td><td>Drama|Romance       </td><td>Mona Lisa Smile (2003)    </td><td style=\"text-align: right;\">       7154</td><td>Drama|Romance       </td><td style=\"text-align: right;\">0.00144842</td></tr>\n",
       "<tr><td>Downfall (Untergang, Der) (2004)       </td><td style=\"text-align: right;\">      31410</td><td>Drama               </td><td>Blow (2001)               </td><td style=\"text-align: right;\">       4239</td><td>Crime|Drama         </td><td style=\"text-align: right;\">0.00290166</td></tr>\n",
       "<tr><td>Knocked Up (2007)                      </td><td style=\"text-align: right;\">      52973</td><td>Comedy|Drama|Romance</td><td>Punch-Drunk Love (2002)   </td><td style=\"text-align: right;\">       5673</td><td>Comedy|Drama|Romance</td><td style=\"text-align: right;\">0.00315198</td></tr>\n",
       "<tr><td>Saved! (2004)                          </td><td style=\"text-align: right;\">       8366</td><td>Comedy|Drama        </td><td>Million Dollar Baby (2004)</td><td style=\"text-align: right;\">      30707</td><td>Drama               </td><td style=\"text-align: right;\">0.00986056</td></tr>\n",
       "<tr><td>Perks of Being a Wallflower, The (2012)</td><td style=\"text-align: right;\">      96821</td><td>Drama|Romance       </td><td>Far from Heaven (2002)    </td><td style=\"text-align: right;\">       5812</td><td>Drama|Romance       </td><td style=\"text-align: right;\">0.0118723 </td></tr>\n",
       "<tr><td>Bucket List, The (2007)                </td><td style=\"text-align: right;\">      56587</td><td>Comedy|Drama        </td><td>Death to Smoochy (2002)   </td><td style=\"text-align: right;\">       5265</td><td>Comedy|Crime|Drama  </td><td style=\"text-align: right;\">0.019001  </td></tr>\n",
       "<tr><td>Thank You for Smoking (2006)           </td><td style=\"text-align: right;\">      44195</td><td>Comedy|Drama        </td><td>Hotel Rwanda (2004)       </td><td style=\"text-align: right;\">      30749</td><td>Drama               </td><td style=\"text-align: right;\">0.021933  </td></tr>\n",
       "<tr><td>Blow (2001)                            </td><td style=\"text-align: right;\">       4239</td><td>Crime|Drama         </td><td>Far from Heaven (2002)    </td><td style=\"text-align: right;\">       5812</td><td>Drama|Romance       </td><td style=\"text-align: right;\">0.0270825 </td></tr>\n",
       "<tr><td>Ray (2004)                             </td><td style=\"text-align: right;\">       8958</td><td>Drama               </td><td>Hours, The (2002)         </td><td style=\"text-align: right;\">       5992</td><td>Drama|Romance       </td><td style=\"text-align: right;\">0.027391  </td></tr>\n",
       "</tbody>\n",
       "</table>"
      ],
      "text/plain": [
       "'<table>\\n<thead>\\n<tr><th>movie1                                 </th><th style=\"text-align: right;\">  movie1_id</th><th>genres              </th><th>movie2                    </th><th style=\"text-align: right;\">  movie2_id</th><th>genres              </th><th style=\"text-align: right;\">  distance</th></tr>\\n</thead>\\n<tbody>\\n<tr><td>Save the Last Dance (2001)             </td><td style=\"text-align: right;\">       4054</td><td>Drama|Romance       </td><td>Mona Lisa Smile (2003)    </td><td style=\"text-align: right;\">       7154</td><td>Drama|Romance       </td><td style=\"text-align: right;\">0.00144842</td></tr>\\n<tr><td>Downfall (Untergang, Der) (2004)       </td><td style=\"text-align: right;\">      31410</td><td>Drama               </td><td>Blow (2001)               </td><td style=\"text-align: right;\">       4239</td><td>Crime|Drama         </td><td style=\"text-align: right;\">0.00290166</td></tr>\\n<tr><td>Knocked Up (2007)                      </td><td style=\"text-align: right;\">      52973</td><td>Comedy|Drama|Romance</td><td>Punch-Drunk Love (2002)   </td><td style=\"text-align: right;\">       5673</td><td>Comedy|Drama|Romance</td><td style=\"text-align: right;\">0.00315198</td></tr>\\n<tr><td>Saved! (2004)                          </td><td style=\"text-align: right;\">       8366</td><td>Comedy|Drama        </td><td>Million Dollar Baby (2004)</td><td style=\"text-align: right;\">      30707</td><td>Drama               </td><td style=\"text-align: right;\">0.00986056</td></tr>\\n<tr><td>Perks of Being a Wallflower, The (2012)</td><td style=\"text-align: right;\">      96821</td><td>Drama|Romance       </td><td>Far from Heaven (2002)    </td><td style=\"text-align: right;\">       5812</td><td>Drama|Romance       </td><td style=\"text-align: right;\">0.0118723 </td></tr>\\n<tr><td>Bucket List, The (2007)                </td><td style=\"text-align: right;\">      56587</td><td>Comedy|Drama        </td><td>Death to Smoochy (2002)   </td><td style=\"text-align: right;\">       5265</td><td>Comedy|Crime|Drama  </td><td style=\"text-align: right;\">0.019001  </td></tr>\\n<tr><td>Thank You for Smoking (2006)           </td><td style=\"text-align: right;\">      44195</td><td>Comedy|Drama        </td><td>Hotel Rwanda (2004)       </td><td style=\"text-align: right;\">      30749</td><td>Drama               </td><td style=\"text-align: right;\">0.021933  </td></tr>\\n<tr><td>Blow (2001)                            </td><td style=\"text-align: right;\">       4239</td><td>Crime|Drama         </td><td>Far from Heaven (2002)    </td><td style=\"text-align: right;\">       5812</td><td>Drama|Romance       </td><td style=\"text-align: right;\">0.0270825 </td></tr>\\n<tr><td>Ray (2004)                             </td><td style=\"text-align: right;\">       8958</td><td>Drama               </td><td>Hours, The (2002)         </td><td style=\"text-align: right;\">       5992</td><td>Drama|Romance       </td><td style=\"text-align: right;\">0.027391  </td></tr>\\n</tbody>\\n</table>'"
      ]
     },
     "execution_count": 21,
     "metadata": {},
     "output_type": "execute_result"
    }
   ],
   "source": [
    "disp = [[\"movie1\", \"movie1_id\", \"genres\", \"movie2\", \"movie2_id\", \"genres\", \"distance\"]]\n",
    "\n",
    "for i in range(len(top_10_similar_movies)):\n",
    "    movie1_id = top_10_similar_movies[i][\"movie1_id\"]\n",
    "    movie2_id = top_10_similar_movies[i][\"movie2_id\"]\n",
    "    distance = top_10_similar_movies[i][\"distance\"]\n",
    "    disp.append([\n",
    "        movie_dict[movie1_id][\"title\"], movie1_id, movie_dict[movie1_id][\"genres\"],\n",
    "        movie_dict[movie2_id][\"title\"], movie2_id, movie_dict[movie2_id][\"genres\"],\n",
    "        distance\n",
    "    ])\n",
    "\n",
    "table = tabulate.tabulate(disp, tablefmt=\"html\", headers=\"firstrow\")\n",
    "table"
   ]
  },
  {
   "cell_type": "code",
   "execution_count": 22,
   "id": "b908bfc8-3a71-4a67-9fba-6baca743a2a5",
   "metadata": {},
   "outputs": [],
   "source": [
    "recommendations = dict()\n",
    "\n",
    "recommendations[\"vector\"] = item_vecs[:, 0].astype(int).tolist()\n",
    "recommendations[\"matrix\"] = distance_matrix.tolist()\n",
    "\n",
    "with open(\"./output/recommendations.json\", \"w\", encoding=\"utf-8\") as f:\n",
    "    json.dump(recommendations, f, ensure_ascii=True, indent=4)"
   ]
  },
  {
   "cell_type": "code",
   "execution_count": 30,
   "id": "6ba88c9f-6c24-49c4-8eb2-d632edd0bb54",
   "metadata": {},
   "outputs": [
    {
     "name": "stdout",
     "output_type": "stream",
     "text": [
      "Distance between \"Save the Last Dance (2001)\" (movie A) and \"Mona Lisa Smile (2003)\" (movie B) is 0.001448422553949058\n"
     ]
    }
   ],
   "source": [
    "movie_a_id = 4054 # Save the Last Dance (2001)\n",
    "movie_b_id = 7154 # Mona Lisa Smile (2003)\t\n",
    "movie_a_title = movie_dict[movie_a_id][\"title\"]\n",
    "movie_b_title = movie_dict[movie_b_id][\"title\"]\n",
    "movie_a_matrix_idx = recommendations[\"vector\"].index(movie_a_id)\n",
    "movie_b_matrix_idx = recommendations[\"vector\"].index(movie_b_id)\n",
    "movies_a_b_distance = recommendations[\"matrix\"][movie_a_matrix_idx][movie_b_matrix_idx]\n",
    "\n",
    "print(f\"Distance between \\\"{movie_a_title}\\\" (movie A) and \\\"{movie_b_title}\\\" (movie B) is {movies_a_b_distance}\")"
   ]
  }
 ],
 "metadata": {
  "kernelspec": {
   "display_name": "Python 3 (ipykernel)",
   "language": "python",
   "name": "python3"
  },
  "language_info": {
   "codemirror_mode": {
    "name": "ipython",
    "version": 3
   },
   "file_extension": ".py",
   "mimetype": "text/x-python",
   "name": "python",
   "nbconvert_exporter": "python",
   "pygments_lexer": "ipython3",
   "version": "3.11.5"
  }
 },
 "nbformat": 4,
 "nbformat_minor": 5
}
