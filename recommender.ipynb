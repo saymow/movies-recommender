{
 "cells": [
  {
   "cell_type": "code",
   "execution_count": 1,
   "id": "92e71fac-188e-444a-b0ef-8ffe627e3cc6",
   "metadata": {},
   "outputs": [
    {
     "name": "stderr",
     "output_type": "stream",
     "text": [
      "/tmp/ipykernel_29873/2063284992.py:3: DeprecationWarning: \n",
      "Pyarrow will become a required dependency of pandas in the next major release of pandas (pandas 3.0),\n",
      "(to allow more performant data types, such as the Arrow string type, and better interoperability with other libraries)\n",
      "but was not found to be installed on your system.\n",
      "If this would cause problems for you,\n",
      "please provide us feedback at https://github.com/pandas-dev/pandas/issues/54466\n",
      "        \n",
      "  import pandas as pd\n",
      "2024-02-03 16:02:13.109954: I external/local_tsl/tsl/cuda/cudart_stub.cc:31] Could not find cuda drivers on your machine, GPU will not be used.\n",
      "2024-02-03 16:02:13.153581: E external/local_xla/xla/stream_executor/cuda/cuda_dnn.cc:9261] Unable to register cuDNN factory: Attempting to register factory for plugin cuDNN when one has already been registered\n",
      "2024-02-03 16:02:13.153619: E external/local_xla/xla/stream_executor/cuda/cuda_fft.cc:607] Unable to register cuFFT factory: Attempting to register factory for plugin cuFFT when one has already been registered\n",
      "2024-02-03 16:02:13.154907: E external/local_xla/xla/stream_executor/cuda/cuda_blas.cc:1515] Unable to register cuBLAS factory: Attempting to register factory for plugin cuBLAS when one has already been registered\n",
      "2024-02-03 16:02:13.161464: I external/local_tsl/tsl/cuda/cudart_stub.cc:31] Could not find cuda drivers on your machine, GPU will not be used.\n",
      "2024-02-03 16:02:14.072271: W tensorflow/compiler/tf2tensorrt/utils/py_utils.cc:38] TF-TRT Warning: Could not find TensorRT\n"
     ]
    }
   ],
   "source": [
    "import numpy as np\n",
    "import numpy.ma as ma\n",
    "import pandas as pd\n",
    "import tensorflow as tf\n",
    "from tensorflow import keras\n",
    "from sklearn.preprocessing import StandardScaler, MinMaxScaler\n",
    "from sklearn.model_selection import train_test_split\n",
    "import tabulate\n",
    "from utils import *\n",
    "from operator import itemgetter"
   ]
  },
  {
   "cell_type": "code",
   "execution_count": 2,
   "id": "deb63a18-1e21-499e-968a-4be27a010ba5",
   "metadata": {},
   "outputs": [
    {
     "data": {
      "text/html": [
       "<div>\n",
       "<style scoped>\n",
       "    .dataframe tbody tr th:only-of-type {\n",
       "        vertical-align: middle;\n",
       "    }\n",
       "\n",
       "    .dataframe tbody tr th {\n",
       "        vertical-align: top;\n",
       "    }\n",
       "\n",
       "    .dataframe thead th {\n",
       "        text-align: right;\n",
       "    }\n",
       "</style>\n",
       "<table border=\"1\" class=\"dataframe\">\n",
       "  <thead>\n",
       "    <tr style=\"text-align: right;\">\n",
       "      <th></th>\n",
       "      <th>movie id</th>\n",
       "      <th>num ratings</th>\n",
       "      <th>ave rating</th>\n",
       "      <th>title</th>\n",
       "      <th>genres</th>\n",
       "    </tr>\n",
       "  </thead>\n",
       "  <tbody>\n",
       "    <tr>\n",
       "      <th>0</th>\n",
       "      <td>4993</td>\n",
       "      <td>198</td>\n",
       "      <td>4.106061</td>\n",
       "      <td>Lord of the Rings: The Fellowship of the Ring,...</td>\n",
       "      <td>Adventure|Fantasy</td>\n",
       "    </tr>\n",
       "    <tr>\n",
       "      <th>1</th>\n",
       "      <td>5952</td>\n",
       "      <td>188</td>\n",
       "      <td>4.021277</td>\n",
       "      <td>Lord of the Rings: The Two Towers, The</td>\n",
       "      <td>Adventure|Fantasy</td>\n",
       "    </tr>\n",
       "    <tr>\n",
       "      <th>2</th>\n",
       "      <td>7153</td>\n",
       "      <td>185</td>\n",
       "      <td>4.118919</td>\n",
       "      <td>Lord of the Rings: The Return of the King, The</td>\n",
       "      <td>Action|Adventure|Drama|Fantasy</td>\n",
       "    </tr>\n",
       "    <tr>\n",
       "      <th>3</th>\n",
       "      <td>4306</td>\n",
       "      <td>170</td>\n",
       "      <td>3.867647</td>\n",
       "      <td>Shrek</td>\n",
       "      <td>Adventure|Animation|Children|Comedy|Fantasy|Ro...</td>\n",
       "    </tr>\n",
       "    <tr>\n",
       "      <th>4</th>\n",
       "      <td>58559</td>\n",
       "      <td>149</td>\n",
       "      <td>4.238255</td>\n",
       "      <td>Dark Knight, The</td>\n",
       "      <td>Action|Crime|Drama</td>\n",
       "    </tr>\n",
       "    <tr>\n",
       "      <th>5</th>\n",
       "      <td>6539</td>\n",
       "      <td>149</td>\n",
       "      <td>3.778523</td>\n",
       "      <td>Pirates of the Caribbean: The Curse of the Bla...</td>\n",
       "      <td>Action|Adventure|Comedy|Fantasy</td>\n",
       "    </tr>\n",
       "    <tr>\n",
       "      <th>6</th>\n",
       "      <td>79132</td>\n",
       "      <td>143</td>\n",
       "      <td>4.066434</td>\n",
       "      <td>Inception</td>\n",
       "      <td>Action|Crime|Drama|Mystery|Sci-Fi|Thriller</td>\n",
       "    </tr>\n",
       "    <tr>\n",
       "      <th>7</th>\n",
       "      <td>6377</td>\n",
       "      <td>141</td>\n",
       "      <td>3.960993</td>\n",
       "      <td>Finding Nemo</td>\n",
       "      <td>Adventure|Animation|Children|Comedy</td>\n",
       "    </tr>\n",
       "    <tr>\n",
       "      <th>8</th>\n",
       "      <td>4886</td>\n",
       "      <td>132</td>\n",
       "      <td>3.871212</td>\n",
       "      <td>Monsters, Inc.</td>\n",
       "      <td>Adventure|Animation|Children|Comedy|Fantasy</td>\n",
       "    </tr>\n",
       "    <tr>\n",
       "      <th>9</th>\n",
       "      <td>7361</td>\n",
       "      <td>131</td>\n",
       "      <td>4.160305</td>\n",
       "      <td>Eternal Sunshine of the Spotless Mind</td>\n",
       "      <td>Drama|Romance|Sci-Fi</td>\n",
       "    </tr>\n",
       "  </tbody>\n",
       "</table>\n",
       "</div>"
      ],
      "text/plain": [
       "   movie id  num ratings  ave rating  \\\n",
       "0      4993          198    4.106061   \n",
       "1      5952          188    4.021277   \n",
       "2      7153          185    4.118919   \n",
       "3      4306          170    3.867647   \n",
       "4     58559          149    4.238255   \n",
       "5      6539          149    3.778523   \n",
       "6     79132          143    4.066434   \n",
       "7      6377          141    3.960993   \n",
       "8      4886          132    3.871212   \n",
       "9      7361          131    4.160305   \n",
       "\n",
       "                                               title  \\\n",
       "0  Lord of the Rings: The Fellowship of the Ring,...   \n",
       "1             Lord of the Rings: The Two Towers, The   \n",
       "2     Lord of the Rings: The Return of the King, The   \n",
       "3                                              Shrek   \n",
       "4                                   Dark Knight, The   \n",
       "5  Pirates of the Caribbean: The Curse of the Bla...   \n",
       "6                                          Inception   \n",
       "7                                       Finding Nemo   \n",
       "8                                     Monsters, Inc.   \n",
       "9              Eternal Sunshine of the Spotless Mind   \n",
       "\n",
       "                                              genres  \n",
       "0                                  Adventure|Fantasy  \n",
       "1                                  Adventure|Fantasy  \n",
       "2                     Action|Adventure|Drama|Fantasy  \n",
       "3  Adventure|Animation|Children|Comedy|Fantasy|Ro...  \n",
       "4                                 Action|Crime|Drama  \n",
       "5                    Action|Adventure|Comedy|Fantasy  \n",
       "6         Action|Crime|Drama|Mystery|Sci-Fi|Thriller  \n",
       "7                Adventure|Animation|Children|Comedy  \n",
       "8        Adventure|Animation|Children|Comedy|Fantasy  \n",
       "9                               Drama|Romance|Sci-Fi  "
      ]
     },
     "execution_count": 2,
     "metadata": {},
     "output_type": "execute_result"
    }
   ],
   "source": [
    "top10_df = pd.read_csv(\"./data/content_top10_df.csv\")\n",
    "\n",
    "top10_df"
   ]
  },
  {
   "cell_type": "code",
   "execution_count": 3,
   "id": "431e2515-b302-42a0-90e9-f0aa7ff91182",
   "metadata": {},
   "outputs": [],
   "source": [
    "item_train, user_train, y_train, item_features, user_features, item_vecs, movie_dict, user_to_genre = load_data()\n",
    "\n",
    "num_user_features = user_train.shape[1] - 3 # Removes user id, rating couting and avg rating\n",
    "num_item_features = item_train.shape[1] - 1 # Remove movie id\n",
    "uvs = 3 # user genre vector start\n",
    "ivs = 3 # item genre vector start\n",
    "u_s = 3 # user start of features columns to use in training\n",
    "i_s = 1 # items start of features columns to use in training"
   ]
  },
  {
   "cell_type": "code",
   "execution_count": 4,
   "id": "b42b6cfd-e45c-4d50-832e-5ca2eca90b0f",
   "metadata": {},
   "outputs": [
    {
     "data": {
      "text/html": [
       "<table>\n",
       "<thead>\n",
       "<tr><th style=\"text-align: center;\"> [user id] </th><th style=\"text-align: center;\"> [rating count] </th><th style=\"text-align: center;\"> [rating ave] </th><th style=\"text-align: center;\"> Action </th><th style=\"text-align: center;\"> Adventure </th><th style=\"text-align: center;\"> Animation </th><th style=\"text-align: center;\"> Children </th><th style=\"text-align: center;\"> Comedy </th><th style=\"text-align: center;\"> Crime </th><th style=\"text-align: center;\"> Documentary </th><th style=\"text-align: center;\"> Drama </th><th style=\"text-align: center;\"> Fantasy </th><th style=\"text-align: center;\"> Horror </th><th style=\"text-align: center;\"> Mystery </th><th style=\"text-align: center;\"> Romance </th><th style=\"text-align: center;\"> Sci-Fi </th><th style=\"text-align: center;\"> Thriller </th></tr>\n",
       "</thead>\n",
       "<tbody>\n",
       "<tr><td style=\"text-align: center;\">     2     </td><td style=\"text-align: center;\">       22       </td><td style=\"text-align: center;\">     4.0      </td><td style=\"text-align: center;\">  4.0   </td><td style=\"text-align: center;\">    4.2    </td><td style=\"text-align: center;\">    0.0    </td><td style=\"text-align: center;\">   0.0    </td><td style=\"text-align: center;\">  4.0   </td><td style=\"text-align: center;\">  4.1  </td><td style=\"text-align: center;\">     4.0     </td><td style=\"text-align: center;\">  4.0  </td><td style=\"text-align: center;\">   0.0   </td><td style=\"text-align: center;\">  3.0   </td><td style=\"text-align: center;\">   4.0   </td><td style=\"text-align: center;\">   0.0   </td><td style=\"text-align: center;\">  3.9   </td><td style=\"text-align: center;\">   3.9    </td></tr>\n",
       "<tr><td style=\"text-align: center;\">     2     </td><td style=\"text-align: center;\">       22       </td><td style=\"text-align: center;\">     4.0      </td><td style=\"text-align: center;\">  4.0   </td><td style=\"text-align: center;\">    4.2    </td><td style=\"text-align: center;\">    0.0    </td><td style=\"text-align: center;\">   0.0    </td><td style=\"text-align: center;\">  4.0   </td><td style=\"text-align: center;\">  4.1  </td><td style=\"text-align: center;\">     4.0     </td><td style=\"text-align: center;\">  4.0  </td><td style=\"text-align: center;\">   0.0   </td><td style=\"text-align: center;\">  3.0   </td><td style=\"text-align: center;\">   4.0   </td><td style=\"text-align: center;\">   0.0   </td><td style=\"text-align: center;\">  3.9   </td><td style=\"text-align: center;\">   3.9    </td></tr>\n",
       "<tr><td style=\"text-align: center;\">     2     </td><td style=\"text-align: center;\">       22       </td><td style=\"text-align: center;\">     4.0      </td><td style=\"text-align: center;\">  4.0   </td><td style=\"text-align: center;\">    4.2    </td><td style=\"text-align: center;\">    0.0    </td><td style=\"text-align: center;\">   0.0    </td><td style=\"text-align: center;\">  4.0   </td><td style=\"text-align: center;\">  4.1  </td><td style=\"text-align: center;\">     4.0     </td><td style=\"text-align: center;\">  4.0  </td><td style=\"text-align: center;\">   0.0   </td><td style=\"text-align: center;\">  3.0   </td><td style=\"text-align: center;\">   4.0   </td><td style=\"text-align: center;\">   0.0   </td><td style=\"text-align: center;\">  3.9   </td><td style=\"text-align: center;\">   3.9    </td></tr>\n",
       "<tr><td style=\"text-align: center;\">     2     </td><td style=\"text-align: center;\">       22       </td><td style=\"text-align: center;\">     4.0      </td><td style=\"text-align: center;\">  4.0   </td><td style=\"text-align: center;\">    4.2    </td><td style=\"text-align: center;\">    0.0    </td><td style=\"text-align: center;\">   0.0    </td><td style=\"text-align: center;\">  4.0   </td><td style=\"text-align: center;\">  4.1  </td><td style=\"text-align: center;\">     4.0     </td><td style=\"text-align: center;\">  4.0  </td><td style=\"text-align: center;\">   0.0   </td><td style=\"text-align: center;\">  3.0   </td><td style=\"text-align: center;\">   4.0   </td><td style=\"text-align: center;\">   0.0   </td><td style=\"text-align: center;\">  3.9   </td><td style=\"text-align: center;\">   3.9    </td></tr>\n",
       "<tr><td style=\"text-align: center;\">     2     </td><td style=\"text-align: center;\">       22       </td><td style=\"text-align: center;\">     4.0      </td><td style=\"text-align: center;\">  4.0   </td><td style=\"text-align: center;\">    4.2    </td><td style=\"text-align: center;\">    0.0    </td><td style=\"text-align: center;\">   0.0    </td><td style=\"text-align: center;\">  4.0   </td><td style=\"text-align: center;\">  4.1  </td><td style=\"text-align: center;\">     4.0     </td><td style=\"text-align: center;\">  4.0  </td><td style=\"text-align: center;\">   0.0   </td><td style=\"text-align: center;\">  3.0   </td><td style=\"text-align: center;\">   4.0   </td><td style=\"text-align: center;\">   0.0   </td><td style=\"text-align: center;\">  3.9   </td><td style=\"text-align: center;\">   3.9    </td></tr>\n",
       "</tbody>\n",
       "</table>"
      ],
      "text/plain": [
       "'<table>\\n<thead>\\n<tr><th style=\"text-align: center;\"> [user id] </th><th style=\"text-align: center;\"> [rating count] </th><th style=\"text-align: center;\"> [rating ave] </th><th style=\"text-align: center;\"> Action </th><th style=\"text-align: center;\"> Adventure </th><th style=\"text-align: center;\"> Animation </th><th style=\"text-align: center;\"> Children </th><th style=\"text-align: center;\"> Comedy </th><th style=\"text-align: center;\"> Crime </th><th style=\"text-align: center;\"> Documentary </th><th style=\"text-align: center;\"> Drama </th><th style=\"text-align: center;\"> Fantasy </th><th style=\"text-align: center;\"> Horror </th><th style=\"text-align: center;\"> Mystery </th><th style=\"text-align: center;\"> Romance </th><th style=\"text-align: center;\"> Sci-Fi </th><th style=\"text-align: center;\"> Thriller </th></tr>\\n</thead>\\n<tbody>\\n<tr><td style=\"text-align: center;\">     2     </td><td style=\"text-align: center;\">       22       </td><td style=\"text-align: center;\">     4.0      </td><td style=\"text-align: center;\">  4.0   </td><td style=\"text-align: center;\">    4.2    </td><td style=\"text-align: center;\">    0.0    </td><td style=\"text-align: center;\">   0.0    </td><td style=\"text-align: center;\">  4.0   </td><td style=\"text-align: center;\">  4.1  </td><td style=\"text-align: center;\">     4.0     </td><td style=\"text-align: center;\">  4.0  </td><td style=\"text-align: center;\">   0.0   </td><td style=\"text-align: center;\">  3.0   </td><td style=\"text-align: center;\">   4.0   </td><td style=\"text-align: center;\">   0.0   </td><td style=\"text-align: center;\">  3.9   </td><td style=\"text-align: center;\">   3.9    </td></tr>\\n<tr><td style=\"text-align: center;\">     2     </td><td style=\"text-align: center;\">       22       </td><td style=\"text-align: center;\">     4.0      </td><td style=\"text-align: center;\">  4.0   </td><td style=\"text-align: center;\">    4.2    </td><td style=\"text-align: center;\">    0.0    </td><td style=\"text-align: center;\">   0.0    </td><td style=\"text-align: center;\">  4.0   </td><td style=\"text-align: center;\">  4.1  </td><td style=\"text-align: center;\">     4.0     </td><td style=\"text-align: center;\">  4.0  </td><td style=\"text-align: center;\">   0.0   </td><td style=\"text-align: center;\">  3.0   </td><td style=\"text-align: center;\">   4.0   </td><td style=\"text-align: center;\">   0.0   </td><td style=\"text-align: center;\">  3.9   </td><td style=\"text-align: center;\">   3.9    </td></tr>\\n<tr><td style=\"text-align: center;\">     2     </td><td style=\"text-align: center;\">       22       </td><td style=\"text-align: center;\">     4.0      </td><td style=\"text-align: center;\">  4.0   </td><td style=\"text-align: center;\">    4.2    </td><td style=\"text-align: center;\">    0.0    </td><td style=\"text-align: center;\">   0.0    </td><td style=\"text-align: center;\">  4.0   </td><td style=\"text-align: center;\">  4.1  </td><td style=\"text-align: center;\">     4.0     </td><td style=\"text-align: center;\">  4.0  </td><td style=\"text-align: center;\">   0.0   </td><td style=\"text-align: center;\">  3.0   </td><td style=\"text-align: center;\">   4.0   </td><td style=\"text-align: center;\">   0.0   </td><td style=\"text-align: center;\">  3.9   </td><td style=\"text-align: center;\">   3.9    </td></tr>\\n<tr><td style=\"text-align: center;\">     2     </td><td style=\"text-align: center;\">       22       </td><td style=\"text-align: center;\">     4.0      </td><td style=\"text-align: center;\">  4.0   </td><td style=\"text-align: center;\">    4.2    </td><td style=\"text-align: center;\">    0.0    </td><td style=\"text-align: center;\">   0.0    </td><td style=\"text-align: center;\">  4.0   </td><td style=\"text-align: center;\">  4.1  </td><td style=\"text-align: center;\">     4.0     </td><td style=\"text-align: center;\">  4.0  </td><td style=\"text-align: center;\">   0.0   </td><td style=\"text-align: center;\">  3.0   </td><td style=\"text-align: center;\">   4.0   </td><td style=\"text-align: center;\">   0.0   </td><td style=\"text-align: center;\">  3.9   </td><td style=\"text-align: center;\">   3.9    </td></tr>\\n<tr><td style=\"text-align: center;\">     2     </td><td style=\"text-align: center;\">       22       </td><td style=\"text-align: center;\">     4.0      </td><td style=\"text-align: center;\">  4.0   </td><td style=\"text-align: center;\">    4.2    </td><td style=\"text-align: center;\">    0.0    </td><td style=\"text-align: center;\">   0.0    </td><td style=\"text-align: center;\">  4.0   </td><td style=\"text-align: center;\">  4.1  </td><td style=\"text-align: center;\">     4.0     </td><td style=\"text-align: center;\">  4.0  </td><td style=\"text-align: center;\">   0.0   </td><td style=\"text-align: center;\">  3.0   </td><td style=\"text-align: center;\">   4.0   </td><td style=\"text-align: center;\">   0.0   </td><td style=\"text-align: center;\">  3.9   </td><td style=\"text-align: center;\">   3.9    </td></tr>\\n</tbody>\\n</table>'"
      ]
     },
     "execution_count": 4,
     "metadata": {},
     "output_type": "execute_result"
    }
   ],
   "source": [
    "pprint_train(user_train, user_features, uvs, u_s, maxcount=5)"
   ]
  },
  {
   "cell_type": "code",
   "execution_count": 5,
   "id": "1176ffac-5252-4974-9aba-955348c00750",
   "metadata": {},
   "outputs": [
    {
     "data": {
      "text/html": [
       "<table>\n",
       "<thead>\n",
       "<tr><th style=\"text-align: center;\"> [movie id] </th><th style=\"text-align: center;\"> year </th><th style=\"text-align: center;\"> ave rating </th><th style=\"text-align: center;\"> Action </th><th style=\"text-align: center;\"> Adventure </th><th style=\"text-align: center;\"> Animation </th><th style=\"text-align: center;\"> Children </th><th style=\"text-align: center;\"> Comedy </th><th style=\"text-align: center;\"> Crime </th><th style=\"text-align: center;\"> Documentary </th><th style=\"text-align: center;\"> Drama </th><th style=\"text-align: center;\"> Fantasy </th><th style=\"text-align: center;\"> Horror </th><th style=\"text-align: center;\"> Mystery </th><th style=\"text-align: center;\"> Romance </th><th style=\"text-align: center;\"> Sci-Fi </th><th style=\"text-align: center;\"> Thriller </th></tr>\n",
       "</thead>\n",
       "<tbody>\n",
       "<tr><td style=\"text-align: center;\">    6874    </td><td style=\"text-align: center;\"> 2003 </td><td style=\"text-align: center;\">    4.0     </td><td style=\"text-align: center;\">   1    </td><td style=\"text-align: center;\">     0     </td><td style=\"text-align: center;\">     0     </td><td style=\"text-align: center;\">    0     </td><td style=\"text-align: center;\">   0    </td><td style=\"text-align: center;\">   1   </td><td style=\"text-align: center;\">      0      </td><td style=\"text-align: center;\">   0   </td><td style=\"text-align: center;\">    0    </td><td style=\"text-align: center;\">   0    </td><td style=\"text-align: center;\">    0    </td><td style=\"text-align: center;\">    0    </td><td style=\"text-align: center;\">   0    </td><td style=\"text-align: center;\">    1     </td></tr>\n",
       "<tr><td style=\"text-align: center;\">    8798    </td><td style=\"text-align: center;\"> 2004 </td><td style=\"text-align: center;\">    3.8     </td><td style=\"text-align: center;\">   1    </td><td style=\"text-align: center;\">     0     </td><td style=\"text-align: center;\">     0     </td><td style=\"text-align: center;\">    0     </td><td style=\"text-align: center;\">   0    </td><td style=\"text-align: center;\">   1   </td><td style=\"text-align: center;\">      0      </td><td style=\"text-align: center;\">   1   </td><td style=\"text-align: center;\">    0    </td><td style=\"text-align: center;\">   0    </td><td style=\"text-align: center;\">    0    </td><td style=\"text-align: center;\">    0    </td><td style=\"text-align: center;\">   0    </td><td style=\"text-align: center;\">    1     </td></tr>\n",
       "<tr><td style=\"text-align: center;\">   46970    </td><td style=\"text-align: center;\"> 2006 </td><td style=\"text-align: center;\">    3.2     </td><td style=\"text-align: center;\">   1    </td><td style=\"text-align: center;\">     0     </td><td style=\"text-align: center;\">     0     </td><td style=\"text-align: center;\">    0     </td><td style=\"text-align: center;\">   1    </td><td style=\"text-align: center;\">   0   </td><td style=\"text-align: center;\">      0      </td><td style=\"text-align: center;\">   0   </td><td style=\"text-align: center;\">    0    </td><td style=\"text-align: center;\">   0    </td><td style=\"text-align: center;\">    0    </td><td style=\"text-align: center;\">    0    </td><td style=\"text-align: center;\">   0    </td><td style=\"text-align: center;\">    0     </td></tr>\n",
       "<tr><td style=\"text-align: center;\">   48516    </td><td style=\"text-align: center;\"> 2006 </td><td style=\"text-align: center;\">    4.3     </td><td style=\"text-align: center;\">   0    </td><td style=\"text-align: center;\">     0     </td><td style=\"text-align: center;\">     0     </td><td style=\"text-align: center;\">    0     </td><td style=\"text-align: center;\">   0    </td><td style=\"text-align: center;\">   1   </td><td style=\"text-align: center;\">      0      </td><td style=\"text-align: center;\">   1   </td><td style=\"text-align: center;\">    0    </td><td style=\"text-align: center;\">   0    </td><td style=\"text-align: center;\">    0    </td><td style=\"text-align: center;\">    0    </td><td style=\"text-align: center;\">   0    </td><td style=\"text-align: center;\">    1     </td></tr>\n",
       "<tr><td style=\"text-align: center;\">   58559    </td><td style=\"text-align: center;\"> 2008 </td><td style=\"text-align: center;\">    4.2     </td><td style=\"text-align: center;\">   1    </td><td style=\"text-align: center;\">     0     </td><td style=\"text-align: center;\">     0     </td><td style=\"text-align: center;\">    0     </td><td style=\"text-align: center;\">   0    </td><td style=\"text-align: center;\">   1   </td><td style=\"text-align: center;\">      0      </td><td style=\"text-align: center;\">   1   </td><td style=\"text-align: center;\">    0    </td><td style=\"text-align: center;\">   0    </td><td style=\"text-align: center;\">    0    </td><td style=\"text-align: center;\">    0    </td><td style=\"text-align: center;\">   0    </td><td style=\"text-align: center;\">    0     </td></tr>\n",
       "</tbody>\n",
       "</table>"
      ],
      "text/plain": [
       "'<table>\\n<thead>\\n<tr><th style=\"text-align: center;\"> [movie id] </th><th style=\"text-align: center;\"> year </th><th style=\"text-align: center;\"> ave rating </th><th style=\"text-align: center;\"> Action </th><th style=\"text-align: center;\"> Adventure </th><th style=\"text-align: center;\"> Animation </th><th style=\"text-align: center;\"> Children </th><th style=\"text-align: center;\"> Comedy </th><th style=\"text-align: center;\"> Crime </th><th style=\"text-align: center;\"> Documentary </th><th style=\"text-align: center;\"> Drama </th><th style=\"text-align: center;\"> Fantasy </th><th style=\"text-align: center;\"> Horror </th><th style=\"text-align: center;\"> Mystery </th><th style=\"text-align: center;\"> Romance </th><th style=\"text-align: center;\"> Sci-Fi </th><th style=\"text-align: center;\"> Thriller </th></tr>\\n</thead>\\n<tbody>\\n<tr><td style=\"text-align: center;\">    6874    </td><td style=\"text-align: center;\"> 2003 </td><td style=\"text-align: center;\">    4.0     </td><td style=\"text-align: center;\">   1    </td><td style=\"text-align: center;\">     0     </td><td style=\"text-align: center;\">     0     </td><td style=\"text-align: center;\">    0     </td><td style=\"text-align: center;\">   0    </td><td style=\"text-align: center;\">   1   </td><td style=\"text-align: center;\">      0      </td><td style=\"text-align: center;\">   0   </td><td style=\"text-align: center;\">    0    </td><td style=\"text-align: center;\">   0    </td><td style=\"text-align: center;\">    0    </td><td style=\"text-align: center;\">    0    </td><td style=\"text-align: center;\">   0    </td><td style=\"text-align: center;\">    1     </td></tr>\\n<tr><td style=\"text-align: center;\">    8798    </td><td style=\"text-align: center;\"> 2004 </td><td style=\"text-align: center;\">    3.8     </td><td style=\"text-align: center;\">   1    </td><td style=\"text-align: center;\">     0     </td><td style=\"text-align: center;\">     0     </td><td style=\"text-align: center;\">    0     </td><td style=\"text-align: center;\">   0    </td><td style=\"text-align: center;\">   1   </td><td style=\"text-align: center;\">      0      </td><td style=\"text-align: center;\">   1   </td><td style=\"text-align: center;\">    0    </td><td style=\"text-align: center;\">   0    </td><td style=\"text-align: center;\">    0    </td><td style=\"text-align: center;\">    0    </td><td style=\"text-align: center;\">   0    </td><td style=\"text-align: center;\">    1     </td></tr>\\n<tr><td style=\"text-align: center;\">   46970    </td><td style=\"text-align: center;\"> 2006 </td><td style=\"text-align: center;\">    3.2     </td><td style=\"text-align: center;\">   1    </td><td style=\"text-align: center;\">     0     </td><td style=\"text-align: center;\">     0     </td><td style=\"text-align: center;\">    0     </td><td style=\"text-align: center;\">   1    </td><td style=\"text-align: center;\">   0   </td><td style=\"text-align: center;\">      0      </td><td style=\"text-align: center;\">   0   </td><td style=\"text-align: center;\">    0    </td><td style=\"text-align: center;\">   0    </td><td style=\"text-align: center;\">    0    </td><td style=\"text-align: center;\">    0    </td><td style=\"text-align: center;\">   0    </td><td style=\"text-align: center;\">    0     </td></tr>\\n<tr><td style=\"text-align: center;\">   48516    </td><td style=\"text-align: center;\"> 2006 </td><td style=\"text-align: center;\">    4.3     </td><td style=\"text-align: center;\">   0    </td><td style=\"text-align: center;\">     0     </td><td style=\"text-align: center;\">     0     </td><td style=\"text-align: center;\">    0     </td><td style=\"text-align: center;\">   0    </td><td style=\"text-align: center;\">   1   </td><td style=\"text-align: center;\">      0      </td><td style=\"text-align: center;\">   1   </td><td style=\"text-align: center;\">    0    </td><td style=\"text-align: center;\">   0    </td><td style=\"text-align: center;\">    0    </td><td style=\"text-align: center;\">    0    </td><td style=\"text-align: center;\">   0    </td><td style=\"text-align: center;\">    1     </td></tr>\\n<tr><td style=\"text-align: center;\">   58559    </td><td style=\"text-align: center;\"> 2008 </td><td style=\"text-align: center;\">    4.2     </td><td style=\"text-align: center;\">   1    </td><td style=\"text-align: center;\">     0     </td><td style=\"text-align: center;\">     0     </td><td style=\"text-align: center;\">    0     </td><td style=\"text-align: center;\">   0    </td><td style=\"text-align: center;\">   1   </td><td style=\"text-align: center;\">      0      </td><td style=\"text-align: center;\">   1   </td><td style=\"text-align: center;\">    0    </td><td style=\"text-align: center;\">   0    </td><td style=\"text-align: center;\">    0    </td><td style=\"text-align: center;\">    0    </td><td style=\"text-align: center;\">   0    </td><td style=\"text-align: center;\">    0     </td></tr>\\n</tbody>\\n</table>'"
      ]
     },
     "execution_count": 5,
     "metadata": {},
     "output_type": "execute_result"
    }
   ],
   "source": [
    "pprint_train(item_train, item_features, ivs, i_s, maxcount=5, user=False)"
   ]
  },
  {
   "cell_type": "code",
   "execution_count": 6,
   "id": "6d9c5e47-f8de-4c6a-9e8c-d16817281c8c",
   "metadata": {},
   "outputs": [
    {
     "name": "stdout",
     "output_type": "stream",
     "text": [
      "y_train[:5]: [4.  3.5 4.  4.  4.5]\n"
     ]
    }
   ],
   "source": [
    "print(f\"y_train[:5]: {y_train[:5]}\")"
   ]
  },
  {
   "cell_type": "code",
   "execution_count": 7,
   "id": "24e53f07-9cbc-4645-b902-1ab380fcd476",
   "metadata": {},
   "outputs": [],
   "source": [
    "item_train_unscaled = item_train\n",
    "user_train_unscaled = user_train\n",
    "y_train_unscaled    = y_train\n",
    "\n",
    "scalerItem = StandardScaler()\n",
    "scalerItem.fit(item_train)\n",
    "item_train = scalerItem.transform(item_train)\n",
    "\n",
    "scalerUser = StandardScaler()\n",
    "scalerUser.fit(user_train)\n",
    "user_train = scalerUser.transform(user_train)\n",
    "\n",
    "scalerTarget = MinMaxScaler((-1, 1))\n",
    "scalerTarget.fit(y_train.reshape(-1, 1))\n",
    "y_train = scalerTarget.transform(y_train.reshape(-1, 1))"
   ]
  },
  {
   "cell_type": "code",
   "execution_count": 8,
   "id": "474cf8cc-62aa-4fd8-9d4c-60ccc603c19f",
   "metadata": {},
   "outputs": [],
   "source": [
    "item_train, item_test = train_test_split(item_train, train_size=0.80, shuffle=True, random_state=1)\n",
    "user_train, user_test = train_test_split(user_train, train_size=0.80, shuffle=True, random_state=1)\n",
    "y_train, y_test = train_test_split(y_train, train_size = 0.80, shuffle=True, random_state=1)"
   ]
  },
  {
   "cell_type": "code",
   "execution_count": 9,
   "id": "ac5fa999-4a5d-4674-82e7-9b204bab3aa1",
   "metadata": {},
   "outputs": [
    {
     "data": {
      "text/html": [
       "<table>\n",
       "<thead>\n",
       "<tr><th style=\"text-align: center;\"> [user id] </th><th style=\"text-align: center;\"> [rating count] </th><th style=\"text-align: center;\"> [rating ave] </th><th style=\"text-align: center;\"> Action </th><th style=\"text-align: center;\"> Adventure </th><th style=\"text-align: center;\"> Animation </th><th style=\"text-align: center;\"> Children </th><th style=\"text-align: center;\"> Comedy </th><th style=\"text-align: center;\"> Crime </th><th style=\"text-align: center;\"> Documentary </th><th style=\"text-align: center;\"> Drama </th><th style=\"text-align: center;\"> Fantasy </th><th style=\"text-align: center;\"> Horror </th><th style=\"text-align: center;\"> Mystery </th><th style=\"text-align: center;\"> Romance </th><th style=\"text-align: center;\"> Sci-Fi </th><th style=\"text-align: center;\"> Thriller </th></tr>\n",
       "</thead>\n",
       "<tbody>\n",
       "<tr><td style=\"text-align: center;\">     1     </td><td style=\"text-align: center;\">       0        </td><td style=\"text-align: center;\">     -1.0     </td><td style=\"text-align: center;\">  -0.8  </td><td style=\"text-align: center;\">   -0.7    </td><td style=\"text-align: center;\">    0.1    </td><td style=\"text-align: center;\">   -0.0   </td><td style=\"text-align: center;\">  -1.2  </td><td style=\"text-align: center;\"> -0.4  </td><td style=\"text-align: center;\">     0.6     </td><td style=\"text-align: center;\"> -0.5  </td><td style=\"text-align: center;\">  -0.5   </td><td style=\"text-align: center;\">  -0.1  </td><td style=\"text-align: center;\">  -0.6   </td><td style=\"text-align: center;\">  -0.6   </td><td style=\"text-align: center;\">  -0.7  </td><td style=\"text-align: center;\">   -0.7   </td></tr>\n",
       "<tr><td style=\"text-align: center;\">     0     </td><td style=\"text-align: center;\">       1        </td><td style=\"text-align: center;\">     -0.7     </td><td style=\"text-align: center;\">  -0.5  </td><td style=\"text-align: center;\">   -0.7    </td><td style=\"text-align: center;\">   -0.1    </td><td style=\"text-align: center;\">   -0.2   </td><td style=\"text-align: center;\">  -0.6  </td><td style=\"text-align: center;\"> -0.2  </td><td style=\"text-align: center;\">     0.7     </td><td style=\"text-align: center;\"> -0.5  </td><td style=\"text-align: center;\">  -0.8   </td><td style=\"text-align: center;\">  0.1   </td><td style=\"text-align: center;\">  -0.0   </td><td style=\"text-align: center;\">  -0.6   </td><td style=\"text-align: center;\">  -0.5  </td><td style=\"text-align: center;\">   -0.4   </td></tr>\n",
       "<tr><td style=\"text-align: center;\">    -1     </td><td style=\"text-align: center;\">       -1       </td><td style=\"text-align: center;\">     -0.2     </td><td style=\"text-align: center;\">  0.3   </td><td style=\"text-align: center;\">   -0.4    </td><td style=\"text-align: center;\">    0.4    </td><td style=\"text-align: center;\">   0.5    </td><td style=\"text-align: center;\">  1.0   </td><td style=\"text-align: center;\">  0.6  </td><td style=\"text-align: center;\">    -1.2     </td><td style=\"text-align: center;\"> -0.3  </td><td style=\"text-align: center;\">  -0.6   </td><td style=\"text-align: center;\">  -2.3  </td><td style=\"text-align: center;\">  -0.1   </td><td style=\"text-align: center;\">   0.0   </td><td style=\"text-align: center;\">  0.4   </td><td style=\"text-align: center;\">   -0.0   </td></tr>\n",
       "<tr><td style=\"text-align: center;\">     0     </td><td style=\"text-align: center;\">       -1       </td><td style=\"text-align: center;\">     0.6      </td><td style=\"text-align: center;\">  0.5   </td><td style=\"text-align: center;\">    0.5    </td><td style=\"text-align: center;\">    0.2    </td><td style=\"text-align: center;\">   0.6    </td><td style=\"text-align: center;\">  -0.1  </td><td style=\"text-align: center;\">  0.5  </td><td style=\"text-align: center;\">    -1.2     </td><td style=\"text-align: center;\">  0.9  </td><td style=\"text-align: center;\">   1.2   </td><td style=\"text-align: center;\">  -2.3  </td><td style=\"text-align: center;\">  -0.1   </td><td style=\"text-align: center;\">   0.0   </td><td style=\"text-align: center;\">  0.2   </td><td style=\"text-align: center;\">   0.3    </td></tr>\n",
       "<tr><td style=\"text-align: center;\">    -1     </td><td style=\"text-align: center;\">       0        </td><td style=\"text-align: center;\">     0.7      </td><td style=\"text-align: center;\">  0.6   </td><td style=\"text-align: center;\">    0.5    </td><td style=\"text-align: center;\">    0.3    </td><td style=\"text-align: center;\">   0.5    </td><td style=\"text-align: center;\">  0.4   </td><td style=\"text-align: center;\">  0.6  </td><td style=\"text-align: center;\">     1.0     </td><td style=\"text-align: center;\">  0.6  </td><td style=\"text-align: center;\">   0.3   </td><td style=\"text-align: center;\">  0.8   </td><td style=\"text-align: center;\">   0.8   </td><td style=\"text-align: center;\">   0.4   </td><td style=\"text-align: center;\">  0.7   </td><td style=\"text-align: center;\">   0.7    </td></tr>\n",
       "</tbody>\n",
       "</table>"
      ],
      "text/plain": [
       "'<table>\\n<thead>\\n<tr><th style=\"text-align: center;\"> [user id] </th><th style=\"text-align: center;\"> [rating count] </th><th style=\"text-align: center;\"> [rating ave] </th><th style=\"text-align: center;\"> Action </th><th style=\"text-align: center;\"> Adventure </th><th style=\"text-align: center;\"> Animation </th><th style=\"text-align: center;\"> Children </th><th style=\"text-align: center;\"> Comedy </th><th style=\"text-align: center;\"> Crime </th><th style=\"text-align: center;\"> Documentary </th><th style=\"text-align: center;\"> Drama </th><th style=\"text-align: center;\"> Fantasy </th><th style=\"text-align: center;\"> Horror </th><th style=\"text-align: center;\"> Mystery </th><th style=\"text-align: center;\"> Romance </th><th style=\"text-align: center;\"> Sci-Fi </th><th style=\"text-align: center;\"> Thriller </th></tr>\\n</thead>\\n<tbody>\\n<tr><td style=\"text-align: center;\">     1     </td><td style=\"text-align: center;\">       0        </td><td style=\"text-align: center;\">     -1.0     </td><td style=\"text-align: center;\">  -0.8  </td><td style=\"text-align: center;\">   -0.7    </td><td style=\"text-align: center;\">    0.1    </td><td style=\"text-align: center;\">   -0.0   </td><td style=\"text-align: center;\">  -1.2  </td><td style=\"text-align: center;\"> -0.4  </td><td style=\"text-align: center;\">     0.6     </td><td style=\"text-align: center;\"> -0.5  </td><td style=\"text-align: center;\">  -0.5   </td><td style=\"text-align: center;\">  -0.1  </td><td style=\"text-align: center;\">  -0.6   </td><td style=\"text-align: center;\">  -0.6   </td><td style=\"text-align: center;\">  -0.7  </td><td style=\"text-align: center;\">   -0.7   </td></tr>\\n<tr><td style=\"text-align: center;\">     0     </td><td style=\"text-align: center;\">       1        </td><td style=\"text-align: center;\">     -0.7     </td><td style=\"text-align: center;\">  -0.5  </td><td style=\"text-align: center;\">   -0.7    </td><td style=\"text-align: center;\">   -0.1    </td><td style=\"text-align: center;\">   -0.2   </td><td style=\"text-align: center;\">  -0.6  </td><td style=\"text-align: center;\"> -0.2  </td><td style=\"text-align: center;\">     0.7     </td><td style=\"text-align: center;\"> -0.5  </td><td style=\"text-align: center;\">  -0.8   </td><td style=\"text-align: center;\">  0.1   </td><td style=\"text-align: center;\">  -0.0   </td><td style=\"text-align: center;\">  -0.6   </td><td style=\"text-align: center;\">  -0.5  </td><td style=\"text-align: center;\">   -0.4   </td></tr>\\n<tr><td style=\"text-align: center;\">    -1     </td><td style=\"text-align: center;\">       -1       </td><td style=\"text-align: center;\">     -0.2     </td><td style=\"text-align: center;\">  0.3   </td><td style=\"text-align: center;\">   -0.4    </td><td style=\"text-align: center;\">    0.4    </td><td style=\"text-align: center;\">   0.5    </td><td style=\"text-align: center;\">  1.0   </td><td style=\"text-align: center;\">  0.6  </td><td style=\"text-align: center;\">    -1.2     </td><td style=\"text-align: center;\"> -0.3  </td><td style=\"text-align: center;\">  -0.6   </td><td style=\"text-align: center;\">  -2.3  </td><td style=\"text-align: center;\">  -0.1   </td><td style=\"text-align: center;\">   0.0   </td><td style=\"text-align: center;\">  0.4   </td><td style=\"text-align: center;\">   -0.0   </td></tr>\\n<tr><td style=\"text-align: center;\">     0     </td><td style=\"text-align: center;\">       -1       </td><td style=\"text-align: center;\">     0.6      </td><td style=\"text-align: center;\">  0.5   </td><td style=\"text-align: center;\">    0.5    </td><td style=\"text-align: center;\">    0.2    </td><td style=\"text-align: center;\">   0.6    </td><td style=\"text-align: center;\">  -0.1  </td><td style=\"text-align: center;\">  0.5  </td><td style=\"text-align: center;\">    -1.2     </td><td style=\"text-align: center;\">  0.9  </td><td style=\"text-align: center;\">   1.2   </td><td style=\"text-align: center;\">  -2.3  </td><td style=\"text-align: center;\">  -0.1   </td><td style=\"text-align: center;\">   0.0   </td><td style=\"text-align: center;\">  0.2   </td><td style=\"text-align: center;\">   0.3    </td></tr>\\n<tr><td style=\"text-align: center;\">    -1     </td><td style=\"text-align: center;\">       0        </td><td style=\"text-align: center;\">     0.7      </td><td style=\"text-align: center;\">  0.6   </td><td style=\"text-align: center;\">    0.5    </td><td style=\"text-align: center;\">    0.3    </td><td style=\"text-align: center;\">   0.5    </td><td style=\"text-align: center;\">  0.4   </td><td style=\"text-align: center;\">  0.6  </td><td style=\"text-align: center;\">     1.0     </td><td style=\"text-align: center;\">  0.6  </td><td style=\"text-align: center;\">   0.3   </td><td style=\"text-align: center;\">  0.8   </td><td style=\"text-align: center;\">   0.8   </td><td style=\"text-align: center;\">   0.4   </td><td style=\"text-align: center;\">  0.7   </td><td style=\"text-align: center;\">   0.7    </td></tr>\\n</tbody>\\n</table>'"
      ]
     },
     "execution_count": 9,
     "metadata": {},
     "output_type": "execute_result"
    }
   ],
   "source": [
    "pprint_train(user_train, user_features, uvs, u_s, maxcount=5)"
   ]
  },
  {
   "cell_type": "code",
   "execution_count": 10,
   "id": "8627135b-c06d-4db5-8389-beb6f249cb58",
   "metadata": {},
   "outputs": [
    {
     "name": "stdout",
     "output_type": "stream",
     "text": [
      "Model: \"model\"\n",
      "__________________________________________________________________________________________________\n",
      " Layer (type)                Output Shape                 Param #   Connected to                  \n",
      "==================================================================================================\n",
      " input_1 (InputLayer)        [(None, 14)]                 0         []                            \n",
      "                                                                                                  \n",
      " input_2 (InputLayer)        [(None, 16)]                 0         []                            \n",
      "                                                                                                  \n",
      " sequential (Sequential)     (None, 16)                   38800     ['input_1[0][0]']             \n",
      "                                                                                                  \n",
      " sequential_1 (Sequential)   (None, 16)                   39312     ['input_2[0][0]']             \n",
      "                                                                                                  \n",
      " tf.math.l2_normalize (TFOp  (None, 16)                   0         ['sequential[0][0]']          \n",
      " Lambda)                                                                                          \n",
      "                                                                                                  \n",
      " tf.math.l2_normalize_1 (TF  (None, 16)                   0         ['sequential_1[0][0]']        \n",
      " OpLambda)                                                                                        \n",
      "                                                                                                  \n",
      " dot (Dot)                   (None, 1)                    0         ['tf.math.l2_normalize[0][0]',\n",
      "                                                                     'tf.math.l2_normalize_1[0][0]\n",
      "                                                                    ']                            \n",
      "                                                                                                  \n",
      "==================================================================================================\n",
      "Total params: 78112 (305.12 KB)\n",
      "Trainable params: 78112 (305.12 KB)\n",
      "Non-trainable params: 0 (0.00 Byte)\n",
      "__________________________________________________________________________________________________\n"
     ]
    }
   ],
   "source": [
    "num_outputs = 16\n",
    "\n",
    "user_NN = tf.keras.models.Sequential([\n",
    "    tf.keras.layers.Dense(256, activation='relu'),\n",
    "    tf.keras.layers.Dense(128, activation='relu'),\n",
    "    tf.keras.layers.Dense(num_outputs, activation='linear')\n",
    "])\n",
    "\n",
    "item_NN = tf.keras.models.Sequential([\n",
    "    tf.keras.layers.Dense(256, activation='relu'),\n",
    "    tf.keras.layers.Dense(128, activation='relu'),\n",
    "    tf.keras.layers.Dense(num_outputs, activation='linear')\n",
    "])\n",
    "\n",
    "input_user = tf.keras.layers.Input(shape=(num_user_features))\n",
    "vu = user_NN(input_user)\n",
    "vu = tf.linalg.l2_normalize(vu, axis=1)\n",
    "\n",
    "input_item = tf.keras.layers.Input(shape=(num_item_features))\n",
    "vm = item_NN(input_item)\n",
    "vm = tf.linalg.l2_normalize(vm, axis=1)\n",
    "\n",
    "output = tf.keras.layers.Dot(axes=1)([vu, vm])\n",
    "\n",
    "model = tf.keras.Model([input_user, input_item], output)\n",
    "\n",
    "model.summary()"
   ]
  },
  {
   "cell_type": "code",
   "execution_count": 11,
   "id": "956df771-7e8a-4981-a07a-b55fb67e2b9f",
   "metadata": {},
   "outputs": [],
   "source": [
    "cost_fn = tf.keras.losses.MeanSquaredError()\n",
    "opt = keras.optimizers.Adam(learning_rate=0.01)\n",
    "model.compile(optimizer=opt, loss=cost_fn)"
   ]
  },
  {
   "cell_type": "code",
   "execution_count": 12,
   "id": "0f299d5e-deb9-4152-9193-56f799ac56cb",
   "metadata": {},
   "outputs": [
    {
     "name": "stdout",
     "output_type": "stream",
     "text": [
      "Epoch 1/100\n",
      "1273/1273 [==============================] - 4s 2ms/step - loss: 0.1206\n",
      "Epoch 2/100\n",
      "1273/1273 [==============================] - 2s 2ms/step - loss: 0.1109\n",
      "Epoch 3/100\n",
      "1273/1273 [==============================] - 2s 2ms/step - loss: 0.1061\n",
      "Epoch 4/100\n",
      "1273/1273 [==============================] - 3s 2ms/step - loss: 0.1025\n",
      "Epoch 5/100\n",
      "1273/1273 [==============================] - 2s 2ms/step - loss: 0.0996\n",
      "Epoch 6/100\n",
      "1273/1273 [==============================] - 3s 2ms/step - loss: 0.0976\n",
      "Epoch 7/100\n",
      "1273/1273 [==============================] - 3s 2ms/step - loss: 0.0955\n",
      "Epoch 8/100\n",
      "1273/1273 [==============================] - 3s 2ms/step - loss: 0.0933\n",
      "Epoch 9/100\n",
      "1273/1273 [==============================] - 3s 2ms/step - loss: 0.0911\n",
      "Epoch 10/100\n",
      "1273/1273 [==============================] - 2s 2ms/step - loss: 0.0896\n",
      "Epoch 11/100\n",
      "1273/1273 [==============================] - 2s 2ms/step - loss: 0.0878\n",
      "Epoch 12/100\n",
      "1273/1273 [==============================] - 2s 2ms/step - loss: 0.0864\n",
      "Epoch 13/100\n",
      "1273/1273 [==============================] - 2s 2ms/step - loss: 0.0851\n",
      "Epoch 14/100\n",
      "1273/1273 [==============================] - 3s 2ms/step - loss: 0.0836\n",
      "Epoch 15/100\n",
      "1273/1273 [==============================] - 3s 2ms/step - loss: 0.0825\n",
      "Epoch 16/100\n",
      "1273/1273 [==============================] - 3s 2ms/step - loss: 0.0814\n",
      "Epoch 17/100\n",
      "1273/1273 [==============================] - 3s 2ms/step - loss: 0.0802\n",
      "Epoch 18/100\n",
      "1273/1273 [==============================] - 3s 2ms/step - loss: 0.0795\n",
      "Epoch 19/100\n",
      "1273/1273 [==============================] - 3s 2ms/step - loss: 0.0785\n",
      "Epoch 20/100\n",
      "1273/1273 [==============================] - 2s 2ms/step - loss: 0.0778\n",
      "Epoch 21/100\n",
      "1273/1273 [==============================] - 3s 2ms/step - loss: 0.0769\n",
      "Epoch 22/100\n",
      "1273/1273 [==============================] - 3s 2ms/step - loss: 0.0761\n",
      "Epoch 23/100\n",
      "1273/1273 [==============================] - 3s 2ms/step - loss: 0.0753\n",
      "Epoch 24/100\n",
      "1273/1273 [==============================] - 2s 2ms/step - loss: 0.0749\n",
      "Epoch 25/100\n",
      "1273/1273 [==============================] - 2s 2ms/step - loss: 0.0739\n",
      "Epoch 26/100\n",
      "1273/1273 [==============================] - 2s 2ms/step - loss: 0.0734\n",
      "Epoch 27/100\n",
      "1273/1273 [==============================] - 2s 2ms/step - loss: 0.0727\n",
      "Epoch 28/100\n",
      "1273/1273 [==============================] - 2s 2ms/step - loss: 0.0722\n",
      "Epoch 29/100\n",
      "1273/1273 [==============================] - 2s 2ms/step - loss: 0.0716\n",
      "Epoch 30/100\n",
      "1273/1273 [==============================] - 2s 2ms/step - loss: 0.0711\n",
      "Epoch 31/100\n",
      "1273/1273 [==============================] - 2s 2ms/step - loss: 0.0707\n",
      "Epoch 32/100\n",
      "1273/1273 [==============================] - 2s 2ms/step - loss: 0.0701\n",
      "Epoch 33/100\n",
      "1273/1273 [==============================] - 3s 2ms/step - loss: 0.0699\n",
      "Epoch 34/100\n",
      "1273/1273 [==============================] - 3s 2ms/step - loss: 0.0692\n",
      "Epoch 35/100\n",
      "1273/1273 [==============================] - 2s 2ms/step - loss: 0.0689\n",
      "Epoch 36/100\n",
      "1273/1273 [==============================] - 3s 2ms/step - loss: 0.0685\n",
      "Epoch 37/100\n",
      "1273/1273 [==============================] - 2s 2ms/step - loss: 0.0681\n",
      "Epoch 38/100\n",
      "1273/1273 [==============================] - 2s 2ms/step - loss: 0.0677\n",
      "Epoch 39/100\n",
      "1273/1273 [==============================] - 2s 2ms/step - loss: 0.0674\n",
      "Epoch 40/100\n",
      "1273/1273 [==============================] - 2s 2ms/step - loss: 0.0670\n",
      "Epoch 41/100\n",
      "1273/1273 [==============================] - 3s 2ms/step - loss: 0.0667\n",
      "Epoch 42/100\n",
      "1273/1273 [==============================] - 3s 2ms/step - loss: 0.0665\n",
      "Epoch 43/100\n",
      "1273/1273 [==============================] - 3s 3ms/step - loss: 0.0659\n",
      "Epoch 44/100\n",
      "1273/1273 [==============================] - 3s 3ms/step - loss: 0.0657\n",
      "Epoch 45/100\n",
      "1273/1273 [==============================] - 2s 2ms/step - loss: 0.0654\n",
      "Epoch 46/100\n",
      "1273/1273 [==============================] - 2s 2ms/step - loss: 0.0651\n",
      "Epoch 47/100\n",
      "1273/1273 [==============================] - 2s 2ms/step - loss: 0.0648\n",
      "Epoch 48/100\n",
      "1273/1273 [==============================] - 2s 2ms/step - loss: 0.0645\n",
      "Epoch 49/100\n",
      "1273/1273 [==============================] - 2s 2ms/step - loss: 0.0642\n",
      "Epoch 50/100\n",
      "1273/1273 [==============================] - 2s 2ms/step - loss: 0.0641\n",
      "Epoch 51/100\n",
      "1273/1273 [==============================] - 2s 2ms/step - loss: 0.0637\n",
      "Epoch 52/100\n",
      "1273/1273 [==============================] - 2s 2ms/step - loss: 0.0635\n",
      "Epoch 53/100\n",
      "1273/1273 [==============================] - 2s 2ms/step - loss: 0.0632\n",
      "Epoch 54/100\n",
      "1273/1273 [==============================] - 2s 2ms/step - loss: 0.0630\n",
      "Epoch 55/100\n",
      "1273/1273 [==============================] - 2s 2ms/step - loss: 0.0628\n",
      "Epoch 56/100\n",
      "1273/1273 [==============================] - 2s 2ms/step - loss: 0.0625\n",
      "Epoch 57/100\n",
      "1273/1273 [==============================] - 2s 2ms/step - loss: 0.0623\n",
      "Epoch 58/100\n",
      "1273/1273 [==============================] - 3s 2ms/step - loss: 0.0621\n",
      "Epoch 59/100\n",
      "1273/1273 [==============================] - 3s 2ms/step - loss: 0.0618\n",
      "Epoch 60/100\n",
      "1273/1273 [==============================] - 3s 2ms/step - loss: 0.0617\n",
      "Epoch 61/100\n",
      "1273/1273 [==============================] - 3s 2ms/step - loss: 0.0617\n",
      "Epoch 62/100\n",
      "1273/1273 [==============================] - 4s 3ms/step - loss: 0.0614\n",
      "Epoch 63/100\n",
      "1273/1273 [==============================] - 3s 3ms/step - loss: 0.0611\n",
      "Epoch 64/100\n",
      "1273/1273 [==============================] - 2s 2ms/step - loss: 0.0612\n",
      "Epoch 65/100\n",
      "1273/1273 [==============================] - 3s 2ms/step - loss: 0.0609\n",
      "Epoch 66/100\n",
      "1273/1273 [==============================] - 3s 2ms/step - loss: 0.0607\n",
      "Epoch 67/100\n",
      "1273/1273 [==============================] - 3s 2ms/step - loss: 0.0606\n",
      "Epoch 68/100\n",
      "1273/1273 [==============================] - 2s 2ms/step - loss: 0.0604\n",
      "Epoch 69/100\n",
      "1273/1273 [==============================] - 2s 2ms/step - loss: 0.0602\n",
      "Epoch 70/100\n",
      "1273/1273 [==============================] - 2s 2ms/step - loss: 0.0601\n",
      "Epoch 71/100\n",
      "1273/1273 [==============================] - 3s 3ms/step - loss: 0.0599\n",
      "Epoch 72/100\n",
      "1273/1273 [==============================] - 3s 2ms/step - loss: 0.0598\n",
      "Epoch 73/100\n",
      "1273/1273 [==============================] - 4s 3ms/step - loss: 0.0596\n",
      "Epoch 74/100\n",
      "1273/1273 [==============================] - 3s 2ms/step - loss: 0.0595\n",
      "Epoch 75/100\n",
      "1273/1273 [==============================] - 2s 2ms/step - loss: 0.0595\n",
      "Epoch 76/100\n",
      "1273/1273 [==============================] - 2s 2ms/step - loss: 0.0593\n",
      "Epoch 77/100\n",
      "1273/1273 [==============================] - 2s 2ms/step - loss: 0.0591\n",
      "Epoch 78/100\n",
      "1273/1273 [==============================] - 2s 2ms/step - loss: 0.0592\n",
      "Epoch 79/100\n",
      "1273/1273 [==============================] - 2s 2ms/step - loss: 0.0588\n",
      "Epoch 80/100\n",
      "1273/1273 [==============================] - 3s 2ms/step - loss: 0.0589\n",
      "Epoch 81/100\n",
      "1273/1273 [==============================] - 2s 2ms/step - loss: 0.0586\n",
      "Epoch 82/100\n",
      "1273/1273 [==============================] - 2s 2ms/step - loss: 0.0585\n",
      "Epoch 83/100\n",
      "1273/1273 [==============================] - 2s 2ms/step - loss: 0.0585\n",
      "Epoch 84/100\n",
      "1273/1273 [==============================] - 2s 2ms/step - loss: 0.0583\n",
      "Epoch 85/100\n",
      "1273/1273 [==============================] - 2s 2ms/step - loss: 0.0582\n",
      "Epoch 86/100\n",
      "1273/1273 [==============================] - 2s 2ms/step - loss: 0.0582\n",
      "Epoch 87/100\n",
      "1273/1273 [==============================] - 2s 2ms/step - loss: 0.0581\n",
      "Epoch 88/100\n",
      "1273/1273 [==============================] - 2s 2ms/step - loss: 0.0579\n",
      "Epoch 89/100\n",
      "1273/1273 [==============================] - 2s 2ms/step - loss: 0.0578\n",
      "Epoch 90/100\n",
      "1273/1273 [==============================] - 2s 2ms/step - loss: 0.0577\n",
      "Epoch 91/100\n",
      "1273/1273 [==============================] - 2s 2ms/step - loss: 0.0577\n",
      "Epoch 92/100\n",
      "1273/1273 [==============================] - 2s 2ms/step - loss: 0.0576\n",
      "Epoch 93/100\n",
      "1273/1273 [==============================] - 2s 2ms/step - loss: 0.0574\n",
      "Epoch 94/100\n",
      "1273/1273 [==============================] - 2s 2ms/step - loss: 0.0574\n",
      "Epoch 95/100\n",
      "1273/1273 [==============================] - 2s 2ms/step - loss: 0.0572\n",
      "Epoch 96/100\n",
      "1273/1273 [==============================] - 3s 2ms/step - loss: 0.0572\n",
      "Epoch 97/100\n",
      "1273/1273 [==============================] - 3s 2ms/step - loss: 0.0571\n",
      "Epoch 98/100\n",
      "1273/1273 [==============================] - 3s 2ms/step - loss: 0.0571\n",
      "Epoch 99/100\n",
      "1273/1273 [==============================] - 3s 3ms/step - loss: 0.0570\n",
      "Epoch 100/100\n",
      "1273/1273 [==============================] - 3s 3ms/step - loss: 0.0568\n"
     ]
    },
    {
     "data": {
      "text/plain": [
       "<keras.src.callbacks.History at 0x7f8ba7d33290>"
      ]
     },
     "execution_count": 12,
     "metadata": {},
     "output_type": "execute_result"
    }
   ],
   "source": [
    "model.fit([user_train[:, u_s:], item_train[:, i_s:]], y_train, epochs=100)"
   ]
  },
  {
   "cell_type": "code",
   "execution_count": 13,
   "id": "414e5ed4-9a96-4be6-9f8d-b8ac884debdb",
   "metadata": {},
   "outputs": [
    {
     "name": "stdout",
     "output_type": "stream",
     "text": [
      "319/319 [==============================] - 1s 2ms/step - loss: 0.0778\n"
     ]
    },
    {
     "data": {
      "text/plain": [
       "0.07778258621692657"
      ]
     },
     "execution_count": 13,
     "metadata": {},
     "output_type": "execute_result"
    }
   ],
   "source": [
    "model.evaluate([user_test[:, u_s:], item_test[:, i_s:]], y_test)"
   ]
  },
  {
   "cell_type": "code",
   "execution_count": 14,
   "id": "78245a37-e725-474d-ae5f-70169964521b",
   "metadata": {},
   "outputs": [],
   "source": [
    "def sq_distance(a, b):\n",
    "    return np.sum((a - b) ** 2)"
   ]
  },
  {
   "cell_type": "code",
   "execution_count": 15,
   "id": "1d08b260-d4c7-4431-bc67-28c7b6ae2a1d",
   "metadata": {},
   "outputs": [],
   "source": [
    "def compute_distance_matrix(vms):\n",
    "    m = vms.shape[0]\n",
    "    M = np.zeros((m, m))\n",
    "\n",
    "    for i in range(m):\n",
    "        for j in range(m):\n",
    "            M[i][j] = sq_distance(vms[i, :], vms[j, :])\n",
    "\n",
    "    return M"
   ]
  },
  {
   "cell_type": "code",
   "execution_count": 16,
   "id": "e7e89c7f-cbc2-4c45-9dac-367b7e3e8019",
   "metadata": {},
   "outputs": [
    {
     "name": "stdout",
     "output_type": "stream",
     "text": [
      "Model: \"model_1\"\n",
      "_________________________________________________________________\n",
      " Layer (type)                Output Shape              Param #   \n",
      "=================================================================\n",
      " input_3 (InputLayer)        [(None, 16)]              0         \n",
      "                                                                 \n",
      " sequential_1 (Sequential)   (None, 16)                39312     \n",
      "                                                                 \n",
      " tf.math.l2_normalize_2 (TF  (None, 16)                0         \n",
      " OpLambda)                                                       \n",
      "                                                                 \n",
      "=================================================================\n",
      "Total params: 39312 (153.56 KB)\n",
      "Trainable params: 39312 (153.56 KB)\n",
      "Non-trainable params: 0 (0.00 Byte)\n",
      "_________________________________________________________________\n"
     ]
    }
   ],
   "source": [
    "input_item_m = tf.keras.layers.Input(shape=(num_item_features))\n",
    "vm_m = item_NN(input_item_m)\n",
    "vm_m = tf.linalg.l2_normalize(vm_m, axis=1)\n",
    "model_m = tf.keras.Model(input_item_m, vm_m)\n",
    "model_m.summary()"
   ]
  },
  {
   "cell_type": "code",
   "execution_count": 17,
   "id": "91736e11-29d9-46c9-88c7-ffde73e7348a",
   "metadata": {},
   "outputs": [
    {
     "name": "stdout",
     "output_type": "stream",
     "text": [
      "27/27 [==============================] - 0s 2ms/step\n"
     ]
    }
   ],
   "source": [
    "scaled_item_vecs = scalerItem.transform(item_vecs)\n",
    "vms = model_m.predict(scaled_item_vecs[:,i_s:])"
   ]
  },
  {
   "cell_type": "code",
   "execution_count": 18,
   "id": "89f03a80-b885-488b-8741-c9d97d62ac30",
   "metadata": {},
   "outputs": [],
   "source": [
    "distance_matrix = compute_distance_matrix(vms)"
   ]
  },
  {
   "cell_type": "code",
   "execution_count": 19,
   "id": "2741e6e2-8c78-45ce-b3fb-b6158cda5eab",
   "metadata": {},
   "outputs": [],
   "source": [
    "m = distance_matrix.shape[0]\n",
    "similar_movies_list = []\n",
    "\n",
    "distance_matrix = ma.masked_array(distance_matrix, mask=np.identity(distance_matrix.shape[0]))\n",
    "\n",
    "for i in range(m):\n",
    "    movie = dict()\n",
    "    min_idx = np.argmin(distance_matrix[i, i:])\n",
    "    movie1_id = int(item_vecs[i, 0])\n",
    "    movie2_id = int(item_vecs[min_idx, 0])\n",
    "    distance = distance_matrix[i][min_idx]\n",
    "    movie[\"movie1_id\"] = movie1_id\n",
    "    movie[\"movie2_id\"] = movie2_id\n",
    "    movie[\"distance\"] = distance \n",
    "    \n",
    "    similar_movies_list.append(movie)"
   ]
  },
  {
   "cell_type": "code",
   "execution_count": 20,
   "id": "25b6e994-4734-4dd6-900c-48d66feea275",
   "metadata": {},
   "outputs": [],
   "source": [
    "top_10_similar_movies = sorted(similar_movies_list, key=itemgetter('distance'))[0:9]"
   ]
  },
  {
   "cell_type": "code",
   "execution_count": 21,
   "id": "86268e52-6619-434a-8ad9-c259f90b6e5c",
   "metadata": {},
   "outputs": [
    {
     "data": {
      "text/html": [
       "<table>\n",
       "<thead>\n",
       "<tr><th>movie1                                             </th><th>genres                </th><th>movie2                          </th><th>genres                     </th></tr>\n",
       "</thead>\n",
       "<tbody>\n",
       "<tr><td>Knocked Up (2007)                                  </td><td>Comedy|Drama|Romance  </td><td>Punch-Drunk Love (2002)         </td><td>Comedy|Drama|Romance       </td></tr>\n",
       "<tr><td>Save the Last Dance (2001)                         </td><td>Drama|Romance         </td><td>Mona Lisa Smile (2003)          </td><td>Drama|Romance              </td></tr>\n",
       "<tr><td>Training Day (2001)                                </td><td>Crime|Drama|Thriller  </td><td>Man Who Wasn&#x27;t There, The (2001)</td><td>Crime|Drama                </td></tr>\n",
       "<tr><td>Friends with Benefits (2011)                       </td><td>Comedy|Romance        </td><td>Two Weeks Notice (2002)         </td><td>Comedy|Romance             </td></tr>\n",
       "<tr><td>Up in the Air (2009)                               </td><td>Drama|Romance         </td><td>Pianist, The (2002)             </td><td>Drama                      </td></tr>\n",
       "<tr><td>Shaun of the Dead (2004)                           </td><td>Comedy|Horror         </td><td>Hot Fuzz (2007)                 </td><td>Action|Comedy|Crime|Mystery</td></tr>\n",
       "<tr><td>Lives of Others, The (Das leben der Anderen) (2006)</td><td>Drama|Romance|Thriller</td><td>Closer (2004)                   </td><td>Drama|Romance              </td></tr>\n",
       "<tr><td>Enemy at the Gates (2001)                          </td><td>Drama                 </td><td>Lord of War (2005)              </td><td>Action|Crime|Drama|Thriller</td></tr>\n",
       "<tr><td>Punisher, The (2004)                               </td><td>Action|Crime|Thriller </td><td>Bourne Supremacy, The (2004)    </td><td>Action|Crime|Thriller      </td></tr>\n",
       "</tbody>\n",
       "</table>"
      ],
      "text/plain": [
       "'<table>\\n<thead>\\n<tr><th>movie1                                             </th><th>genres                </th><th>movie2                          </th><th>genres                     </th></tr>\\n</thead>\\n<tbody>\\n<tr><td>Knocked Up (2007)                                  </td><td>Comedy|Drama|Romance  </td><td>Punch-Drunk Love (2002)         </td><td>Comedy|Drama|Romance       </td></tr>\\n<tr><td>Save the Last Dance (2001)                         </td><td>Drama|Romance         </td><td>Mona Lisa Smile (2003)          </td><td>Drama|Romance              </td></tr>\\n<tr><td>Training Day (2001)                                </td><td>Crime|Drama|Thriller  </td><td>Man Who Wasn&#x27;t There, The (2001)</td><td>Crime|Drama                </td></tr>\\n<tr><td>Friends with Benefits (2011)                       </td><td>Comedy|Romance        </td><td>Two Weeks Notice (2002)         </td><td>Comedy|Romance             </td></tr>\\n<tr><td>Up in the Air (2009)                               </td><td>Drama|Romance         </td><td>Pianist, The (2002)             </td><td>Drama                      </td></tr>\\n<tr><td>Shaun of the Dead (2004)                           </td><td>Comedy|Horror         </td><td>Hot Fuzz (2007)                 </td><td>Action|Comedy|Crime|Mystery</td></tr>\\n<tr><td>Lives of Others, The (Das leben der Anderen) (2006)</td><td>Drama|Romance|Thriller</td><td>Closer (2004)                   </td><td>Drama|Romance              </td></tr>\\n<tr><td>Enemy at the Gates (2001)                          </td><td>Drama                 </td><td>Lord of War (2005)              </td><td>Action|Crime|Drama|Thriller</td></tr>\\n<tr><td>Punisher, The (2004)                               </td><td>Action|Crime|Thriller </td><td>Bourne Supremacy, The (2004)    </td><td>Action|Crime|Thriller      </td></tr>\\n</tbody>\\n</table>'"
      ]
     },
     "execution_count": 21,
     "metadata": {},
     "output_type": "execute_result"
    }
   ],
   "source": [
    "disp = [[\"movie1\", \"genres\", \"movie2\", \"genres\"]]\n",
    "\n",
    "for i in range(len(top_10_similar_movies)):\n",
    "    movie1_id = top_10_similar_movies[i][\"movie1_id\"]\n",
    "    movie2_id = top_10_similar_movies[i][\"movie2_id\"]\n",
    "    disp.append([\n",
    "        movie_dict[movie1_id][\"title\"], movie_dict[movie1_id][\"genres\"],\n",
    "        movie_dict[movie2_id][\"title\"], movie_dict[movie2_id][\"genres\"]\n",
    "    ])\n",
    "\n",
    "table = tabulate.tabulate(disp, tablefmt=\"html\", headers=\"firstrow\")\n",
    "table"
   ]
  },
  {
   "cell_type": "code",
   "execution_count": 22,
   "id": "d47d70c9-f154-4536-ba1c-c188a480f9bc",
   "metadata": {},
   "outputs": [
    {
     "data": {
      "text/html": [
       "<table>\n",
       "<thead>\n",
       "<tr><th style=\"text-align: right;\">  movie_1_id</th><th style=\"text-align: right;\">  movie_2_id</th><th style=\"text-align: right;\">  recommendation_distance</th><th>movie_1                                                                                       </th><th>movie_1_genres                                     </th><th>movie_2                                                                                       </th><th>movie_2_genres                           </th></tr>\n",
       "</thead>\n",
       "<tbody>\n",
       "<tr><td style=\"text-align: right;\">        4993</td><td style=\"text-align: right;\">        5015</td><td style=\"text-align: right;\">                 1.41675 </td><td>Lord of the Rings: The Fellowship of the Ring, The (2001)                                     </td><td>Adventure|Fantasy                                  </td><td>Monster&#x27;s Ball (2001)                                                                         </td><td>Drama|Romance                            </td></tr>\n",
       "<tr><td style=\"text-align: right;\">        5952</td><td style=\"text-align: right;\">        5072</td><td style=\"text-align: right;\">                 0.604506</td><td>Lord of the Rings: The Two Towers, The (2002)                                                 </td><td>Adventure|Fantasy                                  </td><td>Metropolis (2001)                                                                             </td><td>Animation|Sci-Fi                         </td></tr>\n",
       "<tr><td style=\"text-align: right;\">        7153</td><td style=\"text-align: right;\">       70293</td><td style=\"text-align: right;\">                 1.55064 </td><td>Lord of the Rings: The Return of the King, The (2003)                                         </td><td>Action|Adventure|Drama|Fantasy                     </td><td>Julie &amp; Julia (2009)                                                                          </td><td>Comedy|Drama|Romance                     </td></tr>\n",
       "<tr><td style=\"text-align: right;\">        4306</td><td style=\"text-align: right;\">        7323</td><td style=\"text-align: right;\">                 1.35956 </td><td>Shrek (2001)                                                                                  </td><td>Adventure|Animation|Children|Comedy|Fantasy|Romance</td><td>Good bye, Lenin! (2003)                                                                       </td><td>Comedy|Drama                             </td></tr>\n",
       "<tr><td style=\"text-align: right;\">       58559</td><td style=\"text-align: right;\">       33004</td><td style=\"text-align: right;\">                 1.25012 </td><td>Dark Knight, The (2008)                                                                       </td><td>Action|Crime|Drama                                 </td><td>Hitchhiker&#x27;s Guide to the Galaxy, The (2005)                                                  </td><td>Adventure|Comedy|Sci-Fi                  </td></tr>\n",
       "<tr><td style=\"text-align: right;\">        6539</td><td style=\"text-align: right;\">        7454</td><td style=\"text-align: right;\">                 1.78635 </td><td>Pirates of the Caribbean: The Curse of the Black Pearl (2003)                                 </td><td>Action|Adventure|Comedy|Fantasy                    </td><td>Van Helsing (2004)                                                                            </td><td>Action|Adventure|Fantasy|Horror          </td></tr>\n",
       "<tr><td style=\"text-align: right;\">       79132</td><td style=\"text-align: right;\">        6550</td><td style=\"text-align: right;\">                 1.4144  </td><td>Inception (2010)                                                                              </td><td>Action|Crime|Drama|Mystery|Sci-Fi|Thriller         </td><td>Johnny English (2003)                                                                         </td><td>Action|Comedy|Thriller                   </td></tr>\n",
       "<tr><td style=\"text-align: right;\">        6377</td><td style=\"text-align: right;\">       54286</td><td style=\"text-align: right;\">                 0.906509</td><td>Finding Nemo (2003)                                                                           </td><td>Adventure|Animation|Children|Comedy                </td><td>Bourne Ultimatum, The (2007)                                                                  </td><td>Action|Crime|Thriller                    </td></tr>\n",
       "<tr><td style=\"text-align: right;\">        4886</td><td style=\"text-align: right;\">       57368</td><td style=\"text-align: right;\">                 1.7779  </td><td>Monsters, Inc. (2001)                                                                         </td><td>Adventure|Animation|Children|Comedy|Fantasy        </td><td>Cloverfield (2008)                                                                            </td><td>Action|Mystery|Sci-Fi|Thriller           </td></tr>\n",
       "<tr><td style=\"text-align: right;\">        6874</td><td style=\"text-align: right;\">        4701</td><td style=\"text-align: right;\">                 1.7278  </td><td>Kill Bill: Vol. 1 (2003)                                                                      </td><td>Action|Crime|Thriller                              </td><td>Rush Hour 2 (2001)                                                                            </td><td>Action|Comedy                            </td></tr>\n",
       "<tr><td style=\"text-align: right;\">        7361</td><td style=\"text-align: right;\">        5267</td><td style=\"text-align: right;\">                 1.56245 </td><td>Eternal Sunshine of the Spotless Mind (2004)                                                  </td><td>Drama|Romance|Sci-Fi                               </td><td>Rookie, The (2002)                                                                            </td><td>Drama                                    </td></tr>\n",
       "<tr><td style=\"text-align: right;\">        8961</td><td style=\"text-align: right;\">        8665</td><td style=\"text-align: right;\">                 0.876744</td><td>Incredibles, The (2004)                                                                       </td><td>Action|Adventure|Animation|Children|Comedy         </td><td>Bourne Supremacy, The (2004)                                                                  </td><td>Action|Crime|Thriller                    </td></tr>\n",
       "<tr><td style=\"text-align: right;\">        4995</td><td style=\"text-align: right;\">        4975</td><td style=\"text-align: right;\">                 1.0744  </td><td>Beautiful Mind, A (2001)                                                                      </td><td>Drama|Romance                                      </td><td>Vanilla Sky (2001)                                                                            </td><td>Mystery|Romance|Sci-Fi|Thriller          </td></tr>\n",
       "<tr><td style=\"text-align: right;\">        5349</td><td style=\"text-align: right;\">        4992</td><td style=\"text-align: right;\">                 1.16213 </td><td>Spider-Man (2002)                                                                             </td><td>Action|Adventure|Sci-Fi|Thriller                   </td><td>Kate &amp; Leopold (2001)                                                                         </td><td>Comedy|Romance                           </td></tr>\n",
       "<tr><td style=\"text-align: right;\">        5445</td><td style=\"text-align: right;\">       68319</td><td style=\"text-align: right;\">                 1.26649 </td><td>Minority Report (2002)                                                                        </td><td>Action|Crime|Mystery|Sci-Fi|Thriller               </td><td>X-Men Origins: Wolverine (2009)                                                               </td><td>Action|Sci-Fi|Thriller                   </td></tr>\n",
       "<tr><td style=\"text-align: right;\">        4973</td><td style=\"text-align: right;\">        5812</td><td style=\"text-align: right;\">                 0.327734</td><td>Amelie (Fabuleux destin d&#x27;Amélie Poulain, Le) (2001)                                          </td><td>Comedy|Romance                                     </td><td>Far from Heaven (2002)                                                                        </td><td>Drama|Romance                            </td></tr>\n",
       "<tr><td style=\"text-align: right;\">        4963</td><td style=\"text-align: right;\">       80549</td><td style=\"text-align: right;\">                 0.311828</td><td>Ocean&#x27;s Eleven (2001)                                                                         </td><td>Crime|Thriller                                     </td><td>Easy A (2010)                                                                                 </td><td>Comedy|Romance                           </td></tr>\n",
       "<tr><td style=\"text-align: right;\">       33794</td><td style=\"text-align: right;\">        6934</td><td style=\"text-align: right;\">                 0.800947</td><td>Batman Begins (2005)                                                                          </td><td>Action|Crime                                       </td><td>Matrix Revolutions, The (2003)                                                                </td><td>Action|Adventure|Sci-Fi|Thriller         </td></tr>\n",
       "<tr><td style=\"text-align: right;\">        5989</td><td style=\"text-align: right;\">        6548</td><td style=\"text-align: right;\">                 1.67955 </td><td>Catch Me If You Can (2002)                                                                    </td><td>Crime|Drama                                        </td><td>Bad Boys II (2003)                                                                            </td><td>Action|Comedy|Crime|Thriller             </td></tr>\n",
       "<tr><td style=\"text-align: right;\">        5418</td><td style=\"text-align: right;\">       31878</td><td style=\"text-align: right;\">                 1.47969 </td><td>Bourne Identity, The (2002)                                                                   </td><td>Action|Mystery|Thriller                            </td><td>Kung Fu Hustle (Gong fu) (2004)                                                               </td><td>Action|Comedy                            </td></tr>\n",
       "<tr><td style=\"text-align: right;\">        7438</td><td style=\"text-align: right;\">        4958</td><td style=\"text-align: right;\">                 2.02925 </td><td>Kill Bill: Vol. 2 (2004)                                                                      </td><td>Action|Drama|Thriller                              </td><td>Behind Enemy Lines (2001)                                                                     </td><td>Action|Drama                             </td></tr>\n",
       "<tr><td style=\"text-align: right;\">        4878</td><td style=\"text-align: right;\">        6595</td><td style=\"text-align: right;\">                 1.48356 </td><td>Donnie Darko (2001)                                                                           </td><td>Drama|Mystery|Sci-Fi|Thriller                      </td><td>S.W.A.T. (2003)                                                                               </td><td>Action|Thriller                          </td></tr>\n",
       "<tr><td style=\"text-align: right;\">       48516</td><td style=\"text-align: right;\">        4896</td><td style=\"text-align: right;\">                 1.3622  </td><td>Departed, The (2006)                                                                          </td><td>Crime|Drama|Thriller                               </td><td>Harry Potter and the Sorcerer&#x27;s Stone (a.k.a. Harry Potter and the Philosopher&#x27;s Stone) (2001)</td><td>Adventure|Children|Fantasy               </td></tr>\n",
       "<tr><td style=\"text-align: right;\">        4896</td><td style=\"text-align: right;\">        5064</td><td style=\"text-align: right;\">                 0.882977</td><td>Harry Potter and the Sorcerer&#x27;s Stone (a.k.a. Harry Potter and the Philosopher&#x27;s Stone) (2001)</td><td>Adventure|Children|Fantasy                         </td><td>The Count of Monte Cristo (2002)                                                              </td><td>Action|Adventure|Drama|Thriller          </td></tr>\n",
       "<tr><td style=\"text-align: right;\">       68954</td><td style=\"text-align: right;\">        6953</td><td style=\"text-align: right;\">                 1.72749 </td><td>Up (2009)                                                                                     </td><td>Adventure|Animation|Children|Drama                 </td><td>21 Grams (2003)                                                                               </td><td>Crime|Drama|Mystery|Romance|Thriller     </td></tr>\n",
       "<tr><td style=\"text-align: right;\">       60069</td><td style=\"text-align: right;\">       31410</td><td style=\"text-align: right;\">                 0.721696</td><td>WALL·E (2008)                                                                                 </td><td>Adventure|Animation|Children|Romance|Sci-Fi        </td><td>Downfall (Untergang, Der) (2004)                                                              </td><td>Drama                                    </td></tr>\n",
       "<tr><td style=\"text-align: right;\">        5816</td><td style=\"text-align: right;\">        7360</td><td style=\"text-align: right;\">                 1.34886 </td><td>Harry Potter and the Chamber of Secrets (2002)                                                </td><td>Adventure|Fantasy                                  </td><td>Dawn of the Dead (2004)                                                                       </td><td>Action|Drama|Horror|Thriller             </td></tr>\n",
       "<tr><td style=\"text-align: right;\">       44191</td><td style=\"text-align: right;\">        6323</td><td style=\"text-align: right;\">                 0.984178</td><td>V for Vendetta (2006)                                                                         </td><td>Action|Sci-Fi|Thriller                             </td><td>Identity (2003)                                                                               </td><td>Crime|Horror|Mystery|Thriller            </td></tr>\n",
       "<tr><td style=\"text-align: right;\">       72998</td><td style=\"text-align: right;\">        7293</td><td style=\"text-align: right;\">                 1.01436 </td><td>Avatar (2009)                                                                                 </td><td>Action|Adventure|Sci-Fi                            </td><td>50 First Dates (2004)                                                                         </td><td>Comedy|Romance                           </td></tr>\n",
       "<tr><td style=\"text-align: right;\">        6365</td><td style=\"text-align: right;\">        4720</td><td style=\"text-align: right;\">                 1.60054 </td><td>Matrix Reloaded, The (2003)                                                                   </td><td>Action|Adventure|Sci-Fi|Thriller                   </td><td>Others, The (2001)                                                                            </td><td>Drama|Horror|Mystery|Thriller            </td></tr>\n",
       "<tr><td style=\"text-align: right;\">       59315</td><td style=\"text-align: right;\">        4881</td><td style=\"text-align: right;\">                 1.03476 </td><td>Iron Man (2008)                                                                               </td><td>Action|Adventure|Sci-Fi                            </td><td>Man Who Wasn&#x27;t There, The (2001)                                                              </td><td>Crime|Drama                              </td></tr>\n",
       "<tr><td style=\"text-align: right;\">        8368</td><td style=\"text-align: right;\">       44555</td><td style=\"text-align: right;\">                 1.28254 </td><td>Harry Potter and the Prisoner of Azkaban (2004)                                               </td><td>Adventure|Fantasy                                  </td><td>Lives of Others, The (Das leben der Anderen) (2006)                                           </td><td>Drama|Romance|Thriller                   </td></tr>\n",
       "<tr><td style=\"text-align: right;\">        5378</td><td style=\"text-align: right;\">        5065</td><td style=\"text-align: right;\">                 1.07348 </td><td>Star Wars: Episode II - Attack of the Clones (2002)                                           </td><td>Action|Adventure|Sci-Fi                            </td><td>Mothman Prophecies, The (2002)                                                                </td><td>Drama|Fantasy|Horror|Mystery|Thriller    </td></tr>\n",
       "<tr><td style=\"text-align: right;\">        8360</td><td style=\"text-align: right;\">       55276</td><td style=\"text-align: right;\">                 1.35001 </td><td>Shrek 2 (2004)                                                                                </td><td>Adventure|Animation|Children|Comedy|Romance        </td><td>Michael Clayton (2007)                                                                        </td><td>Drama|Thriller                           </td></tr>\n",
       "<tr><td style=\"text-align: right;\">       48780</td><td style=\"text-align: right;\">       46976</td><td style=\"text-align: right;\">                 0.933471</td><td>Prestige, The (2006)                                                                          </td><td>Drama|Mystery|Sci-Fi|Thriller                      </td><td>Stranger than Fiction (2006)                                                                  </td><td>Comedy|Drama|Fantasy|Romance             </td></tr>\n",
       "<tr><td style=\"text-align: right;\">       68157</td><td style=\"text-align: right;\">        5944</td><td style=\"text-align: right;\">                 1.83597 </td><td>Inglourious Basterds (2009)                                                                   </td><td>Action|Drama                                       </td><td>Star Trek: Nemesis (2002)                                                                     </td><td>Action|Drama|Sci-Fi|Thriller             </td></tr>\n",
       "<tr><td style=\"text-align: right;\">        5618</td><td style=\"text-align: right;\">        6537</td><td style=\"text-align: right;\">                 1.99641 </td><td>Spirited Away (Sen to Chihiro no kamikakushi) (2001)                                          </td><td>Adventure|Animation|Fantasy                        </td><td>Terminator 3: Rise of the Machines (2003)                                                     </td><td>Action|Adventure|Sci-Fi                  </td></tr>\n",
       "<tr><td style=\"text-align: right;\">        5218</td><td style=\"text-align: right;\">       65088</td><td style=\"text-align: right;\">                 0.941405</td><td>Ice Age (2002)                                                                                </td><td>Adventure|Animation|Children|Comedy                </td><td>Bedtime Stories (2008)                                                                        </td><td>Adventure|Children|Comedy                </td></tr>\n",
       "<tr><td style=\"text-align: right;\">       32587</td><td style=\"text-align: right;\">        5957</td><td style=\"text-align: right;\">                 1.65015 </td><td>Sin City (2005)                                                                               </td><td>Action|Crime|Mystery|Thriller                      </td><td>Two Weeks Notice (2002)                                                                       </td><td>Comedy|Romance                           </td></tr>\n",
       "<tr><td style=\"text-align: right;\">       49272</td><td style=\"text-align: right;\">       34048</td><td style=\"text-align: right;\">                 1.34848 </td><td>Casino Royale (2006)                                                                          </td><td>Action|Adventure|Thriller                          </td><td>War of the Worlds (2005)                                                                      </td><td>Action|Adventure|Sci-Fi|Thriller         </td></tr>\n",
       "<tr><td style=\"text-align: right;\">       54286</td><td style=\"text-align: right;\">        4728</td><td style=\"text-align: right;\">                 0.744026</td><td>Bourne Ultimatum, The (2007)                                                                  </td><td>Action|Crime|Thriller                              </td><td>Rat Race (2001)                                                                               </td><td>Comedy                                   </td></tr>\n",
       "<tr><td style=\"text-align: right;\">       48394</td><td style=\"text-align: right;\">        6383</td><td style=\"text-align: right;\">                 2.29449 </td><td>Pan&#x27;s Labyrinth (Laberinto del fauno, El) (2006)                                              </td><td>Drama|Fantasy|Thriller                             </td><td>2 Fast 2 Furious (Fast and the Furious 2, The) (2003)                                         </td><td>Action|Crime|Thriller                    </td></tr>\n",
       "<tr><td style=\"text-align: right;\">       51662</td><td style=\"text-align: right;\">       37830</td><td style=\"text-align: right;\">                 1.27104 </td><td>300 (2007)                                                                                    </td><td>Action|Fantasy                                     </td><td>Final Fantasy VII: Advent Children (2004)                                                     </td><td>Action|Adventure|Animation|Fantasy|Sci-Fi</td></tr>\n",
       "<tr><td style=\"text-align: right;\">        6934</td><td style=\"text-align: right;\">        5679</td><td style=\"text-align: right;\">                 1.00488 </td><td>Matrix Revolutions, The (2003)                                                                </td><td>Action|Adventure|Sci-Fi|Thriller                   </td><td>Ring, The (2002)                                                                              </td><td>Horror|Mystery|Thriller                  </td></tr>\n",
       "<tr><td style=\"text-align: right;\">        8636</td><td style=\"text-align: right;\">        5064</td><td style=\"text-align: right;\">                 1.01989 </td><td>Spider-Man 2 (2004)                                                                           </td><td>Action|Adventure|Sci-Fi                            </td><td>The Count of Monte Cristo (2002)                                                              </td><td>Action|Adventure|Drama|Thriller          </td></tr>\n",
       "<tr><td style=\"text-align: right;\">       33493</td><td style=\"text-align: right;\">        4167</td><td style=\"text-align: right;\">                 1.39863 </td><td>Star Wars: Episode III - Revenge of the Sith (2005)                                           </td><td>Action|Adventure|Sci-Fi                            </td><td>15 Minutes (2001)                                                                             </td><td>Thriller                                 </td></tr>\n",
       "<tr><td style=\"text-align: right;\">       46578</td><td style=\"text-align: right;\">        8784</td><td style=\"text-align: right;\">                 0.610535</td><td>Little Miss Sunshine (2006)                                                                   </td><td>Adventure|Comedy|Drama                             </td><td>Garden State (2004)                                                                           </td><td>Comedy|Drama|Romance                     </td></tr>\n",
       "<tr><td style=\"text-align: right;\">        8874</td><td style=\"text-align: right;\">       51255</td><td style=\"text-align: right;\">                 0.271994</td><td>Shaun of the Dead (2004)                                                                      </td><td>Comedy|Horror                                      </td><td>Hot Fuzz (2007)                                                                               </td><td>Action|Comedy|Crime|Mystery              </td></tr>\n",
       "<tr><td style=\"text-align: right;\">       91529</td><td style=\"text-align: right;\">        5267</td><td style=\"text-align: right;\">                 1.41246 </td><td>Dark Knight Rises, The (2012)                                                                 </td><td>Action|Adventure|Crime                             </td><td>Rookie, The (2002)                                                                            </td><td>Drama                                    </td></tr>\n",
       "<tr><td style=\"text-align: right;\">        6333</td><td style=\"text-align: right;\">       42723</td><td style=\"text-align: right;\">                 2.11748 </td><td>X2: X-Men United (2003)                                                                       </td><td>Action|Adventure|Sci-Fi|Thriller                   </td><td>Hostel (2005)                                                                                 </td><td>Horror                                   </td></tr>\n",
       "</tbody>\n",
       "</table>"
      ],
      "text/plain": [
       "'<table>\\n<thead>\\n<tr><th style=\"text-align: right;\">  movie_1_id</th><th style=\"text-align: right;\">  movie_2_id</th><th style=\"text-align: right;\">  recommendation_distance</th><th>movie_1                                                                                       </th><th>movie_1_genres                                     </th><th>movie_2                                                                                       </th><th>movie_2_genres                           </th></tr>\\n</thead>\\n<tbody>\\n<tr><td style=\"text-align: right;\">        4993</td><td style=\"text-align: right;\">        5015</td><td style=\"text-align: right;\">                 1.41675 </td><td>Lord of the Rings: The Fellowship of the Ring, The (2001)                                     </td><td>Adventure|Fantasy                                  </td><td>Monster&#x27;s Ball (2001)                                                                         </td><td>Drama|Romance                            </td></tr>\\n<tr><td style=\"text-align: right;\">        5952</td><td style=\"text-align: right;\">        5072</td><td style=\"text-align: right;\">                 0.604506</td><td>Lord of the Rings: The Two Towers, The (2002)                                                 </td><td>Adventure|Fantasy                                  </td><td>Metropolis (2001)                                                                             </td><td>Animation|Sci-Fi                         </td></tr>\\n<tr><td style=\"text-align: right;\">        7153</td><td style=\"text-align: right;\">       70293</td><td style=\"text-align: right;\">                 1.55064 </td><td>Lord of the Rings: The Return of the King, The (2003)                                         </td><td>Action|Adventure|Drama|Fantasy                     </td><td>Julie &amp; Julia (2009)                                                                          </td><td>Comedy|Drama|Romance                     </td></tr>\\n<tr><td style=\"text-align: right;\">        4306</td><td style=\"text-align: right;\">        7323</td><td style=\"text-align: right;\">                 1.35956 </td><td>Shrek (2001)                                                                                  </td><td>Adventure|Animation|Children|Comedy|Fantasy|Romance</td><td>Good bye, Lenin! (2003)                                                                       </td><td>Comedy|Drama                             </td></tr>\\n<tr><td style=\"text-align: right;\">       58559</td><td style=\"text-align: right;\">       33004</td><td style=\"text-align: right;\">                 1.25012 </td><td>Dark Knight, The (2008)                                                                       </td><td>Action|Crime|Drama                                 </td><td>Hitchhiker&#x27;s Guide to the Galaxy, The (2005)                                                  </td><td>Adventure|Comedy|Sci-Fi                  </td></tr>\\n<tr><td style=\"text-align: right;\">        6539</td><td style=\"text-align: right;\">        7454</td><td style=\"text-align: right;\">                 1.78635 </td><td>Pirates of the Caribbean: The Curse of the Black Pearl (2003)                                 </td><td>Action|Adventure|Comedy|Fantasy                    </td><td>Van Helsing (2004)                                                                            </td><td>Action|Adventure|Fantasy|Horror          </td></tr>\\n<tr><td style=\"text-align: right;\">       79132</td><td style=\"text-align: right;\">        6550</td><td style=\"text-align: right;\">                 1.4144  </td><td>Inception (2010)                                                                              </td><td>Action|Crime|Drama|Mystery|Sci-Fi|Thriller         </td><td>Johnny English (2003)                                                                         </td><td>Action|Comedy|Thriller                   </td></tr>\\n<tr><td style=\"text-align: right;\">        6377</td><td style=\"text-align: right;\">       54286</td><td style=\"text-align: right;\">                 0.906509</td><td>Finding Nemo (2003)                                                                           </td><td>Adventure|Animation|Children|Comedy                </td><td>Bourne Ultimatum, The (2007)                                                                  </td><td>Action|Crime|Thriller                    </td></tr>\\n<tr><td style=\"text-align: right;\">        4886</td><td style=\"text-align: right;\">       57368</td><td style=\"text-align: right;\">                 1.7779  </td><td>Monsters, Inc. (2001)                                                                         </td><td>Adventure|Animation|Children|Comedy|Fantasy        </td><td>Cloverfield (2008)                                                                            </td><td>Action|Mystery|Sci-Fi|Thriller           </td></tr>\\n<tr><td style=\"text-align: right;\">        6874</td><td style=\"text-align: right;\">        4701</td><td style=\"text-align: right;\">                 1.7278  </td><td>Kill Bill: Vol. 1 (2003)                                                                      </td><td>Action|Crime|Thriller                              </td><td>Rush Hour 2 (2001)                                                                            </td><td>Action|Comedy                            </td></tr>\\n<tr><td style=\"text-align: right;\">        7361</td><td style=\"text-align: right;\">        5267</td><td style=\"text-align: right;\">                 1.56245 </td><td>Eternal Sunshine of the Spotless Mind (2004)                                                  </td><td>Drama|Romance|Sci-Fi                               </td><td>Rookie, The (2002)                                                                            </td><td>Drama                                    </td></tr>\\n<tr><td style=\"text-align: right;\">        8961</td><td style=\"text-align: right;\">        8665</td><td style=\"text-align: right;\">                 0.876744</td><td>Incredibles, The (2004)                                                                       </td><td>Action|Adventure|Animation|Children|Comedy         </td><td>Bourne Supremacy, The (2004)                                                                  </td><td>Action|Crime|Thriller                    </td></tr>\\n<tr><td style=\"text-align: right;\">        4995</td><td style=\"text-align: right;\">        4975</td><td style=\"text-align: right;\">                 1.0744  </td><td>Beautiful Mind, A (2001)                                                                      </td><td>Drama|Romance                                      </td><td>Vanilla Sky (2001)                                                                            </td><td>Mystery|Romance|Sci-Fi|Thriller          </td></tr>\\n<tr><td style=\"text-align: right;\">        5349</td><td style=\"text-align: right;\">        4992</td><td style=\"text-align: right;\">                 1.16213 </td><td>Spider-Man (2002)                                                                             </td><td>Action|Adventure|Sci-Fi|Thriller                   </td><td>Kate &amp; Leopold (2001)                                                                         </td><td>Comedy|Romance                           </td></tr>\\n<tr><td style=\"text-align: right;\">        5445</td><td style=\"text-align: right;\">       68319</td><td style=\"text-align: right;\">                 1.26649 </td><td>Minority Report (2002)                                                                        </td><td>Action|Crime|Mystery|Sci-Fi|Thriller               </td><td>X-Men Origins: Wolverine (2009)                                                               </td><td>Action|Sci-Fi|Thriller                   </td></tr>\\n<tr><td style=\"text-align: right;\">        4973</td><td style=\"text-align: right;\">        5812</td><td style=\"text-align: right;\">                 0.327734</td><td>Amelie (Fabuleux destin d&#x27;Amélie Poulain, Le) (2001)                                          </td><td>Comedy|Romance                                     </td><td>Far from Heaven (2002)                                                                        </td><td>Drama|Romance                            </td></tr>\\n<tr><td style=\"text-align: right;\">        4963</td><td style=\"text-align: right;\">       80549</td><td style=\"text-align: right;\">                 0.311828</td><td>Ocean&#x27;s Eleven (2001)                                                                         </td><td>Crime|Thriller                                     </td><td>Easy A (2010)                                                                                 </td><td>Comedy|Romance                           </td></tr>\\n<tr><td style=\"text-align: right;\">       33794</td><td style=\"text-align: right;\">        6934</td><td style=\"text-align: right;\">                 0.800947</td><td>Batman Begins (2005)                                                                          </td><td>Action|Crime                                       </td><td>Matrix Revolutions, The (2003)                                                                </td><td>Action|Adventure|Sci-Fi|Thriller         </td></tr>\\n<tr><td style=\"text-align: right;\">        5989</td><td style=\"text-align: right;\">        6548</td><td style=\"text-align: right;\">                 1.67955 </td><td>Catch Me If You Can (2002)                                                                    </td><td>Crime|Drama                                        </td><td>Bad Boys II (2003)                                                                            </td><td>Action|Comedy|Crime|Thriller             </td></tr>\\n<tr><td style=\"text-align: right;\">        5418</td><td style=\"text-align: right;\">       31878</td><td style=\"text-align: right;\">                 1.47969 </td><td>Bourne Identity, The (2002)                                                                   </td><td>Action|Mystery|Thriller                            </td><td>Kung Fu Hustle (Gong fu) (2004)                                                               </td><td>Action|Comedy                            </td></tr>\\n<tr><td style=\"text-align: right;\">        7438</td><td style=\"text-align: right;\">        4958</td><td style=\"text-align: right;\">                 2.02925 </td><td>Kill Bill: Vol. 2 (2004)                                                                      </td><td>Action|Drama|Thriller                              </td><td>Behind Enemy Lines (2001)                                                                     </td><td>Action|Drama                             </td></tr>\\n<tr><td style=\"text-align: right;\">        4878</td><td style=\"text-align: right;\">        6595</td><td style=\"text-align: right;\">                 1.48356 </td><td>Donnie Darko (2001)                                                                           </td><td>Drama|Mystery|Sci-Fi|Thriller                      </td><td>S.W.A.T. (2003)                                                                               </td><td>Action|Thriller                          </td></tr>\\n<tr><td style=\"text-align: right;\">       48516</td><td style=\"text-align: right;\">        4896</td><td style=\"text-align: right;\">                 1.3622  </td><td>Departed, The (2006)                                                                          </td><td>Crime|Drama|Thriller                               </td><td>Harry Potter and the Sorcerer&#x27;s Stone (a.k.a. Harry Potter and the Philosopher&#x27;s Stone) (2001)</td><td>Adventure|Children|Fantasy               </td></tr>\\n<tr><td style=\"text-align: right;\">        4896</td><td style=\"text-align: right;\">        5064</td><td style=\"text-align: right;\">                 0.882977</td><td>Harry Potter and the Sorcerer&#x27;s Stone (a.k.a. Harry Potter and the Philosopher&#x27;s Stone) (2001)</td><td>Adventure|Children|Fantasy                         </td><td>The Count of Monte Cristo (2002)                                                              </td><td>Action|Adventure|Drama|Thriller          </td></tr>\\n<tr><td style=\"text-align: right;\">       68954</td><td style=\"text-align: right;\">        6953</td><td style=\"text-align: right;\">                 1.72749 </td><td>Up (2009)                                                                                     </td><td>Adventure|Animation|Children|Drama                 </td><td>21 Grams (2003)                                                                               </td><td>Crime|Drama|Mystery|Romance|Thriller     </td></tr>\\n<tr><td style=\"text-align: right;\">       60069</td><td style=\"text-align: right;\">       31410</td><td style=\"text-align: right;\">                 0.721696</td><td>WALL·E (2008)                                                                                 </td><td>Adventure|Animation|Children|Romance|Sci-Fi        </td><td>Downfall (Untergang, Der) (2004)                                                              </td><td>Drama                                    </td></tr>\\n<tr><td style=\"text-align: right;\">        5816</td><td style=\"text-align: right;\">        7360</td><td style=\"text-align: right;\">                 1.34886 </td><td>Harry Potter and the Chamber of Secrets (2002)                                                </td><td>Adventure|Fantasy                                  </td><td>Dawn of the Dead (2004)                                                                       </td><td>Action|Drama|Horror|Thriller             </td></tr>\\n<tr><td style=\"text-align: right;\">       44191</td><td style=\"text-align: right;\">        6323</td><td style=\"text-align: right;\">                 0.984178</td><td>V for Vendetta (2006)                                                                         </td><td>Action|Sci-Fi|Thriller                             </td><td>Identity (2003)                                                                               </td><td>Crime|Horror|Mystery|Thriller            </td></tr>\\n<tr><td style=\"text-align: right;\">       72998</td><td style=\"text-align: right;\">        7293</td><td style=\"text-align: right;\">                 1.01436 </td><td>Avatar (2009)                                                                                 </td><td>Action|Adventure|Sci-Fi                            </td><td>50 First Dates (2004)                                                                         </td><td>Comedy|Romance                           </td></tr>\\n<tr><td style=\"text-align: right;\">        6365</td><td style=\"text-align: right;\">        4720</td><td style=\"text-align: right;\">                 1.60054 </td><td>Matrix Reloaded, The (2003)                                                                   </td><td>Action|Adventure|Sci-Fi|Thriller                   </td><td>Others, The (2001)                                                                            </td><td>Drama|Horror|Mystery|Thriller            </td></tr>\\n<tr><td style=\"text-align: right;\">       59315</td><td style=\"text-align: right;\">        4881</td><td style=\"text-align: right;\">                 1.03476 </td><td>Iron Man (2008)                                                                               </td><td>Action|Adventure|Sci-Fi                            </td><td>Man Who Wasn&#x27;t There, The (2001)                                                              </td><td>Crime|Drama                              </td></tr>\\n<tr><td style=\"text-align: right;\">        8368</td><td style=\"text-align: right;\">       44555</td><td style=\"text-align: right;\">                 1.28254 </td><td>Harry Potter and the Prisoner of Azkaban (2004)                                               </td><td>Adventure|Fantasy                                  </td><td>Lives of Others, The (Das leben der Anderen) (2006)                                           </td><td>Drama|Romance|Thriller                   </td></tr>\\n<tr><td style=\"text-align: right;\">        5378</td><td style=\"text-align: right;\">        5065</td><td style=\"text-align: right;\">                 1.07348 </td><td>Star Wars: Episode II - Attack of the Clones (2002)                                           </td><td>Action|Adventure|Sci-Fi                            </td><td>Mothman Prophecies, The (2002)                                                                </td><td>Drama|Fantasy|Horror|Mystery|Thriller    </td></tr>\\n<tr><td style=\"text-align: right;\">        8360</td><td style=\"text-align: right;\">       55276</td><td style=\"text-align: right;\">                 1.35001 </td><td>Shrek 2 (2004)                                                                                </td><td>Adventure|Animation|Children|Comedy|Romance        </td><td>Michael Clayton (2007)                                                                        </td><td>Drama|Thriller                           </td></tr>\\n<tr><td style=\"text-align: right;\">       48780</td><td style=\"text-align: right;\">       46976</td><td style=\"text-align: right;\">                 0.933471</td><td>Prestige, The (2006)                                                                          </td><td>Drama|Mystery|Sci-Fi|Thriller                      </td><td>Stranger than Fiction (2006)                                                                  </td><td>Comedy|Drama|Fantasy|Romance             </td></tr>\\n<tr><td style=\"text-align: right;\">       68157</td><td style=\"text-align: right;\">        5944</td><td style=\"text-align: right;\">                 1.83597 </td><td>Inglourious Basterds (2009)                                                                   </td><td>Action|Drama                                       </td><td>Star Trek: Nemesis (2002)                                                                     </td><td>Action|Drama|Sci-Fi|Thriller             </td></tr>\\n<tr><td style=\"text-align: right;\">        5618</td><td style=\"text-align: right;\">        6537</td><td style=\"text-align: right;\">                 1.99641 </td><td>Spirited Away (Sen to Chihiro no kamikakushi) (2001)                                          </td><td>Adventure|Animation|Fantasy                        </td><td>Terminator 3: Rise of the Machines (2003)                                                     </td><td>Action|Adventure|Sci-Fi                  </td></tr>\\n<tr><td style=\"text-align: right;\">        5218</td><td style=\"text-align: right;\">       65088</td><td style=\"text-align: right;\">                 0.941405</td><td>Ice Age (2002)                                                                                </td><td>Adventure|Animation|Children|Comedy                </td><td>Bedtime Stories (2008)                                                                        </td><td>Adventure|Children|Comedy                </td></tr>\\n<tr><td style=\"text-align: right;\">       32587</td><td style=\"text-align: right;\">        5957</td><td style=\"text-align: right;\">                 1.65015 </td><td>Sin City (2005)                                                                               </td><td>Action|Crime|Mystery|Thriller                      </td><td>Two Weeks Notice (2002)                                                                       </td><td>Comedy|Romance                           </td></tr>\\n<tr><td style=\"text-align: right;\">       49272</td><td style=\"text-align: right;\">       34048</td><td style=\"text-align: right;\">                 1.34848 </td><td>Casino Royale (2006)                                                                          </td><td>Action|Adventure|Thriller                          </td><td>War of the Worlds (2005)                                                                      </td><td>Action|Adventure|Sci-Fi|Thriller         </td></tr>\\n<tr><td style=\"text-align: right;\">       54286</td><td style=\"text-align: right;\">        4728</td><td style=\"text-align: right;\">                 0.744026</td><td>Bourne Ultimatum, The (2007)                                                                  </td><td>Action|Crime|Thriller                              </td><td>Rat Race (2001)                                                                               </td><td>Comedy                                   </td></tr>\\n<tr><td style=\"text-align: right;\">       48394</td><td style=\"text-align: right;\">        6383</td><td style=\"text-align: right;\">                 2.29449 </td><td>Pan&#x27;s Labyrinth (Laberinto del fauno, El) (2006)                                              </td><td>Drama|Fantasy|Thriller                             </td><td>2 Fast 2 Furious (Fast and the Furious 2, The) (2003)                                         </td><td>Action|Crime|Thriller                    </td></tr>\\n<tr><td style=\"text-align: right;\">       51662</td><td style=\"text-align: right;\">       37830</td><td style=\"text-align: right;\">                 1.27104 </td><td>300 (2007)                                                                                    </td><td>Action|Fantasy                                     </td><td>Final Fantasy VII: Advent Children (2004)                                                     </td><td>Action|Adventure|Animation|Fantasy|Sci-Fi</td></tr>\\n<tr><td style=\"text-align: right;\">        6934</td><td style=\"text-align: right;\">        5679</td><td style=\"text-align: right;\">                 1.00488 </td><td>Matrix Revolutions, The (2003)                                                                </td><td>Action|Adventure|Sci-Fi|Thriller                   </td><td>Ring, The (2002)                                                                              </td><td>Horror|Mystery|Thriller                  </td></tr>\\n<tr><td style=\"text-align: right;\">        8636</td><td style=\"text-align: right;\">        5064</td><td style=\"text-align: right;\">                 1.01989 </td><td>Spider-Man 2 (2004)                                                                           </td><td>Action|Adventure|Sci-Fi                            </td><td>The Count of Monte Cristo (2002)                                                              </td><td>Action|Adventure|Drama|Thriller          </td></tr>\\n<tr><td style=\"text-align: right;\">       33493</td><td style=\"text-align: right;\">        4167</td><td style=\"text-align: right;\">                 1.39863 </td><td>Star Wars: Episode III - Revenge of the Sith (2005)                                           </td><td>Action|Adventure|Sci-Fi                            </td><td>15 Minutes (2001)                                                                             </td><td>Thriller                                 </td></tr>\\n<tr><td style=\"text-align: right;\">       46578</td><td style=\"text-align: right;\">        8784</td><td style=\"text-align: right;\">                 0.610535</td><td>Little Miss Sunshine (2006)                                                                   </td><td>Adventure|Comedy|Drama                             </td><td>Garden State (2004)                                                                           </td><td>Comedy|Drama|Romance                     </td></tr>\\n<tr><td style=\"text-align: right;\">        8874</td><td style=\"text-align: right;\">       51255</td><td style=\"text-align: right;\">                 0.271994</td><td>Shaun of the Dead (2004)                                                                      </td><td>Comedy|Horror                                      </td><td>Hot Fuzz (2007)                                                                               </td><td>Action|Comedy|Crime|Mystery              </td></tr>\\n<tr><td style=\"text-align: right;\">       91529</td><td style=\"text-align: right;\">        5267</td><td style=\"text-align: right;\">                 1.41246 </td><td>Dark Knight Rises, The (2012)                                                                 </td><td>Action|Adventure|Crime                             </td><td>Rookie, The (2002)                                                                            </td><td>Drama                                    </td></tr>\\n<tr><td style=\"text-align: right;\">        6333</td><td style=\"text-align: right;\">       42723</td><td style=\"text-align: right;\">                 2.11748 </td><td>X2: X-Men United (2003)                                                                       </td><td>Action|Adventure|Sci-Fi|Thriller                   </td><td>Hostel (2005)                                                                                 </td><td>Horror                                   </td></tr>\\n</tbody>\\n</table>'"
      ]
     },
     "execution_count": 22,
     "metadata": {},
     "output_type": "execute_result"
    }
   ],
   "source": [
    "top_50_most_rated_movies = load_metadata()\n",
    "\n",
    "top_50_most_rated_movies_recommendations = []\n",
    "\n",
    "disp = ['movie_1_id', 'movie_2_id', 'recommendation_distance', 'movie_1', 'movie_1_genres', 'movie_2', 'movie_2_genres']\n",
    "\n",
    "for i in range(len(top_50_most_rated_movies)):\n",
    "    movie_id = top_50_most_rated_movies[i][0]\n",
    "    recommendation = [similar_movies for similar_movies in similar_movies_list if similar_movies[\"movie1_id\"] == movie_id][0]\n",
    "    recommended_movie_id = recommendation['movie2_id']\n",
    "    recommendation_distance = recommendation['distance']\n",
    "    movie_title = movie_dict[movie_id]['title']\n",
    "    recommended_movie_title = movie_dict[recommended_movie_id]['title']\n",
    "    movie_genres = movie_dict[movie_id]['genres']\n",
    "    recommended_movie_genres = movie_dict[recommended_movie_id]['genres']\n",
    "    top_50_most_rated_movies_recommendations.append([\n",
    "        movie_id, recommended_movie_id, recommendation_distance,\n",
    "        movie_title, movie_genres,\n",
    "        recommended_movie_title, recommended_movie_genres\n",
    "    ])\n",
    "\n",
    "table = tabulate.tabulate([disp, *top_50_most_rated_movies_recommendations], tablefmt='html', headers='firstrow')\n",
    "table"
   ]
  }
 ],
 "metadata": {
  "kernelspec": {
   "display_name": "Python 3 (ipykernel)",
   "language": "python",
   "name": "python3"
  },
  "language_info": {
   "codemirror_mode": {
    "name": "ipython",
    "version": 3
   },
   "file_extension": ".py",
   "mimetype": "text/x-python",
   "name": "python",
   "nbconvert_exporter": "python",
   "pygments_lexer": "ipython3",
   "version": "3.11.5"
  }
 },
 "nbformat": 4,
 "nbformat_minor": 5
}
